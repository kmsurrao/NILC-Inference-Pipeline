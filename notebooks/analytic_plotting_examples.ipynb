{
 "cells": [
  {
   "cell_type": "code",
   "execution_count": null,
   "id": "d7bbd8e3",
   "metadata": {},
   "outputs": [],
   "source": [
    "import numpy as np\n",
    "import pickle\n",
    "import healpy as hp\n",
    "import matplotlib.pyplot as plt\n",
    "import sys\n",
    "import os\n",
    "import subprocess\n",
    "sys.path.append('../shared')\n",
    "sys.path.append('../analytic_model')\n",
    "from input import Info\n",
    "from generate_maps import generate_freq_maps\n",
    "from load_weight_maps import load_wt_maps\n",
    "from utils import setup_output_dir, tsz_spectral_response, GaussianNeedlets, build_NILC_maps"
   ]
  },
  {
   "cell_type": "code",
   "execution_count": null,
   "id": "34813c79",
   "metadata": {},
   "outputs": [],
   "source": [
    "font = {'size'   : 20, 'family':'STIXGeneral'}\n",
    "plt.rcParams.update({\n",
    "     'text.usetex': True,\n",
    "     'font.family': 'serif',\n",
    "     'font.sans-serif': ['Computer Modern'],\n",
    "     'font.size':20})\n",
    "plt.rc_context({'axes.autolimit_mode': 'round_numbers'})"
   ]
  },
  {
   "cell_type": "markdown",
   "id": "bb453ae2",
   "metadata": {},
   "source": [
    "### To run this notebook, first run analytic/main.py with save_files=1 in the yaml file. The variable save_dir below should be the directory in which to save the plots (set save_dir=None if you don't want to save the plots)."
   ]
  },
  {
   "cell_type": "code",
   "execution_count": null,
   "id": "f75515b1",
   "metadata": {},
   "outputs": [],
   "source": [
    "save_dir = 'analytic_plots'\n",
    "\n",
    "sim = 0\n",
    "if not os.path.isdir(save_dir):\n",
    "    env = os.environ.copy()\n",
    "    subprocess.call(f'mkdir {save_dir}', shell=True, env=env)\n"
   ]
  },
  {
   "cell_type": "markdown",
   "id": "7d39d4de",
   "metadata": {},
   "source": [
    "\n",
    "## Read input yaml file"
   ]
  },
  {
   "cell_type": "code",
   "execution_count": null,
   "id": "44393a49",
   "metadata": {},
   "outputs": [],
   "source": [
    "# main input file containing most specifications \n",
    "input_file = '/Users/kristen/Documents/GitHub/NILC-Inference-Pipeline/analytic_model/laptop.yaml'\n",
    "\n",
    "# read in the input file and set up relevant info object\n",
    "inp = Info(input_file)"
   ]
  },
  {
   "cell_type": "markdown",
   "id": "ee1cc189",
   "metadata": {},
   "source": [
    "## Sample input maps and power spectra"
   ]
  },
  {
   "cell_type": "code",
   "execution_count": null,
   "id": "c5ec2928",
   "metadata": {},
   "outputs": [],
   "source": [
    "cmb_cl, tsz_cl, noise1_cl, noise2_cl, cmb_map, tsz_map, noise1_map, noise2_map = generate_freq_maps(sim, inp, save=False)\n",
    "ells_sum = np.arange(inp.ell_sum_max+1)\n",
    "\n",
    "g_cmb = np.array([1., 1.])\n",
    "g_tsz = tsz_spectral_response(inp.freqs)\n",
    "\n",
    "fig, axs = plt.subplots(2,2, figsize=(12,8))\n",
    "axs = axs.flatten()\n",
    "margins=None #(1,1,1,1)\n",
    "\n",
    "plt.rcParams.update({\n",
    "     'text.usetex': True,\n",
    "     'font.family': 'serif',\n",
    "     'font.sans-serif': ['Computer Modern'],\n",
    "     'font.size':14})\n",
    "\n",
    "for n, ax in enumerate(axs):\n",
    "    plt.axes(ax)\n",
    "    if n==0:\n",
    "        hp.mollview(cmb_map, fig=1, hold=True, title='CMB', format='%.03g')\n",
    "    elif n==1:\n",
    "        hp.mollview(tsz_map, fig=2, hold=True, title=r'Amplified Compton-$y$', format='%.03g')\n",
    "    elif n==2:\n",
    "        hp.mollview(noise1_map, fig=3, hold=True, title='Noise 90 GHz', format='%.03g')\n",
    "    else:\n",
    "        to_dl = ells_sum*(ells_sum+1)/2/np.pi\n",
    "        plt.plot(ells_sum[2:], (to_dl*cmb_cl)[2:], label='CMB')\n",
    "        plt.plot(ells_sum[2:], abs(to_dl*g_tsz[0]*tsz_cl)[2:], label=r'$|$Amplified tSZ 90 GHz$|$', linestyle='solid')\n",
    "        plt.plot(ells_sum[2:], abs(to_dl*g_tsz[1]*tsz_cl)[2:], label=r'$|$Amplified tSZ 150 GHz$|$', linestyle='solid')\n",
    "        plt.plot(ells_sum[2:], (to_dl*noise1_cl)[2:], label='Noise 90 GHz', linestyle='solid')\n",
    "        plt.plot(ells_sum[2:], (to_dl*noise2_cl)[2:], label='Noise 150 GHz', linestyle='solid')\n",
    "        plt.xlabel(r'$\\ell$', fontsize=14)\n",
    "        plt.ylabel(r'$\\ell(\\ell+1)C_{\\ell}/(2\\pi)$ [$\\mathrm{K}^2$]', fontsize=14)\n",
    "        plt.xticks(fontsize=14)\n",
    "        plt.yticks(fontsize=14)\n",
    "        plt.grid()\n",
    "        plt.legend(fontsize=12, ncol=2, loc=(0.01,0.01))\n",
    "        plt.yscale('log')\n",
    "        plt.xlim(2,inp.ell_sum_max+1)\n",
    "    if n==0 or n==1 or n==2:\n",
    "        plt.text(0.47, -0.02, r'$[\\mathrm{K}]$', transform=ax.transAxes,size=14)\n",
    "\n",
    "if save_dir:\n",
    "    plt.savefig(f'{save_dir}/input_maps.pdf', bbox_inches=\"tight\")\n",
    "    print(f'saved {save_dir}/input_maps.pdf')\n",
    "\n",
    "\n",
    "plt.rcParams.update({\n",
    "     'text.usetex': True,\n",
    "     'font.family': 'serif',\n",
    "     'font.sans-serif': ['Computer Modern'],\n",
    "     'font.size':20})"
   ]
  },
  {
   "cell_type": "markdown",
   "id": "5b271a0a",
   "metadata": {},
   "source": [
    "## Needlet filters"
   ]
  },
  {
   "cell_type": "code",
   "execution_count": null,
   "id": "6b404fca",
   "metadata": {},
   "outputs": [],
   "source": [
    "ells_sum, h = GaussianNeedlets(inp)\n",
    "for n in range(inp.Nscales):\n",
    "    plt.plot(ells_sum, h[n], color='k')\n",
    "plt.grid()\n",
    "plt.xlim(0,inp.ell_sum_max)\n",
    "plt.xlabel(r'$\\ell$')\n",
    "plt.ylabel(r'$h_\\ell^{(n)}$')\n",
    "if save_dir:\n",
    "    plt.savefig(f'{save_dir}/needlet_filters.pdf')\n",
    "    print(f'saved {save_dir}/needlet_filters.pdf')\n"
   ]
  },
  {
   "cell_type": "markdown",
   "id": "ffca1a2b",
   "metadata": {},
   "source": [
    "## Weight maps for preserved CMB component"
   ]
  },
  {
   "cell_type": "code",
   "execution_count": null,
   "id": "192308b6",
   "metadata": {},
   "outputs": [],
   "source": [
    "CMB_wt_maps, tSZ_wt_maps = load_wt_maps(inp, sim)"
   ]
  },
  {
   "cell_type": "code",
   "execution_count": null,
   "id": "e51a393f",
   "metadata": {},
   "outputs": [],
   "source": [
    "plt.rcParams.update({'font.size':11})\n",
    "\n",
    "fig, axs = plt.subplots(inp.Nscales, len(inp.freqs), figsize=(8,6))\n",
    "axs = axs.flatten()\n",
    "\n",
    "ax = 0\n",
    "for n in range(inp.Nscales):\n",
    "    for i in range(len(inp.freqs)):\n",
    "        plt.axes(axs[ax])\n",
    "        hp.mollview(CMB_wt_maps[n][i], hold=True, title='', format='%.03g')\n",
    "        if i == 0:\n",
    "            plt.text(0.85, 0.5, f'Scale {n}\\n{int(inp.freqs[i])} GHz', transform=axs[ax].transAxes,size=11)\n",
    "        elif i == 1:\n",
    "            plt.text(-0.04, 0.5, f'Scale {n}\\n{int(inp.freqs[i])} GHz', transform=axs[ax].transAxes,size=11)\n",
    "        ax += 1\n",
    "\n",
    "if save_dir:\n",
    "    plt.savefig(f'{save_dir}/weight_maps.pdf')\n",
    "    print(f'saved {save_dir}/weight_maps.pdf')\n",
    "    \n",
    "plt.rcParams.update({'font.size':20})"
   ]
  },
  {
   "cell_type": "markdown",
   "id": "46651d3f",
   "metadata": {},
   "source": [
    "## Component propagation to NILC map (comparing analytic and directly calculated results)"
   ]
  },
  {
   "cell_type": "code",
   "execution_count": null,
   "id": "135266eb",
   "metadata": {},
   "outputs": [],
   "source": [
    "plt.rcParams.update({'font.size':14})\n",
    "\n",
    "#index as directly_computed_prop_to_NILC_PS[z,p,l]\n",
    "directly_computed_prop_to_NILC_PS = pickle.load(open(f'{inp.output_dir}/data_vecs/sim{sim}_directly_computed_prop_to_NILC_PS.p', 'rb'))\n",
    "\n",
    "#index as Clpq[p,q,z,reMASTERed term,l]\n",
    "Clpq = pickle.load(open(f'{inp.output_dir}/data_vecs/sim{sim}_Clpq.p', 'rb'))\n",
    "\n",
    "#index as 0-2 for CMB, tSZ, noise\n",
    "Clzz = pickle.load(open(f'{inp.output_dir}/n_point_funcs/sim{sim}_Clzz.p', 'rb'))\n",
    "\n",
    "comps = ['CMB', 'ftSZ']\n",
    "\n",
    "ells = np.arange(inp.ellmax+1)\n",
    "start = 2\n",
    "\n",
    "fig, axs = plt.subplots(2,2, figsize=(9,6))\n",
    "axs = axs.flatten()\n",
    "ax = 0\n",
    "for z, prop_comp in enumerate(comps):\n",
    "    for p, preserved_comp in enumerate(comps):\n",
    "        plt.axes(axs[ax])\n",
    "        direct = directly_computed_prop_to_NILC_PS[z,p]\n",
    "        remastered_terms = Clpq[p,p,z]\n",
    "        analytic = np.sum(remastered_terms, axis=0)\n",
    "        aa_ww_term, aw_aw_term, w_aaw_term, a_waw_term, aaww_term = remastered_terms\n",
    "        plt.plot(ells[start:], (ells*(ells+1)*aa_ww_term/(2*np.pi))[start:], label=r'$\\langle zz \\rangle \\langle ww \\rangle$ term', color='c')\n",
    "        plt.plot(ells[start:], (ells*(ells+1)*aw_aw_term/(2*np.pi))[start:], label=r'$\\langle zw \\rangle \\langle zw \\rangle$ term')\n",
    "        plt.plot(ells[start:], (ells*(ells+1)*w_aaw_term/(2*np.pi))[start:], label=r'$\\langle w \\rangle \\langle zzw \\rangle_c$ terms', color='r')\n",
    "        plt.plot(ells[start:], (ells*(ells+1)*a_waw_term/(2*np.pi))[start:], label=r'$\\langle z \\rangle \\langle wzw \\rangle_c$ terms', color='mediumpurple', linestyle='dashed')\n",
    "        plt.plot(ells[start:], (ells*(ells+1)*aaww_term/(2*np.pi))[start:], label=r'$\\langle zzww \\rangle_c$ term', color='y', linestyle='dotted')\n",
    "        plt.plot(ells[start:], (ells*(ells+1)*direct/(2*np.pi))[start:], label='Directly Computed', color='g')\n",
    "        if ax==0:\n",
    "            plt.plot(ells[start:], (ells*(ells+1)*cmb_cl/(2*np.pi))[start:], label='Input Spectrum', linestyle='dashed', color='lightblue')\n",
    "        elif ax==3:\n",
    "            plt.plot(ells[start:], (ells*(ells+1)*tsz_cl/(2*np.pi))[start:], label='Input Spectrum', linestyle='dashed', color='lightblue')\n",
    "        plt.plot(ells[start:], (ells*(ells+1)*analytic/(2*np.pi))[start:], label='Analytic Result', linestyle='dotted', color='m')\n",
    "        plt.xlabel(r'$\\ell$')\n",
    "        plt.ylabel(r'$D_\\ell$ $[\\mathrm{K}^2]$')\n",
    "        plt.grid()\n",
    "        plt.xlim(2,inp.ellmax)\n",
    "        plt.title(f'{comps[z]} Propagation to {comps[p]} NILC PS', fontsize=14)\n",
    "        ax += 1\n",
    "handles, labels = axs[0].get_legend_handles_labels()\n",
    "fig.legend(handles, labels, fontsize=12, bbox_to_anchor=(0.9, 0.04), ncol=3)\n",
    "plt.tight_layout()\n",
    "fig = plt.gcf()\n",
    "fig.subplots_adjust(top=0.85)\n",
    "\n",
    "if save_dir:\n",
    "    plt.savefig(f'{save_dir}/propagation.pdf', bbox_inches='tight')\n",
    "    print(f'saved {save_dir}/propagation.pdf')\n",
    "\n",
    "plt.rcParams.update({'font.size':20})\n",
    "\n"
   ]
  },
  {
   "cell_type": "code",
   "execution_count": null,
   "id": "def64389",
   "metadata": {},
   "outputs": [],
   "source": []
  }
 ],
 "metadata": {
  "kernelspec": {
   "display_name": "Python 3 (ipykernel)",
   "language": "python",
   "name": "python3"
  },
  "language_info": {
   "codemirror_mode": {
    "name": "ipython",
    "version": 3
   },
   "file_extension": ".py",
   "mimetype": "text/x-python",
   "name": "python",
   "nbconvert_exporter": "python",
   "pygments_lexer": "ipython3",
   "version": "3.9.12"
  }
 },
 "nbformat": 4,
 "nbformat_minor": 5
}
