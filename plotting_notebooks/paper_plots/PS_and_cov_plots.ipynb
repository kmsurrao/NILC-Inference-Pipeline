{
 "cells": [
  {
   "cell_type": "code",
   "execution_count": null,
   "id": "d7bbd8e3",
   "metadata": {},
   "outputs": [],
   "source": [
    "import numpy as np\n",
    "import pickle\n",
    "import matplotlib.pyplot as plt\n",
    "from scipy import stats\n",
    "import healpy as hp\n",
    "from matplotlib.ticker import FormatStrFormatter"
   ]
  },
  {
   "cell_type": "code",
   "execution_count": null,
   "id": "34813c79",
   "metadata": {},
   "outputs": [],
   "source": [
    "font = {'size'   : 20, 'family':'STIXGeneral'}\n",
    "plt.rcParams.update({\n",
    "     'text.usetex': True,\n",
    "     'font.family': 'serif',\n",
    "     'font.sans-serif': ['Computer Modern'],\n",
    "     'font.size':20})\n",
    "plt.rc_context({'axes.autolimit_mode': 'round_numbers'})"
   ]
  },
  {
   "cell_type": "markdown",
   "id": "bb453ae2",
   "metadata": {},
   "source": [
    "### To run this notebook, first run all the pipelines with each of the example yaml files, using the same output_dir for all of them. "
   ]
  },
  {
   "cell_type": "code",
   "execution_count": null,
   "id": "f75515b1",
   "metadata": {},
   "outputs": [],
   "source": [
    "save = True #whether to save plots from this notebook\n",
    "output_dir = '/Users/kristen/Documents/GitHub/NILC-Inference-Pipeline/plotting_notebooks/tests/outputs_90_150' #output_dir that was used in the yaml files\n",
    "ellmax = 250 #maximum ell used in yaml\n",
    "Nbins = 10 #number of bins used in yaml\n",
    "tsz_type = 'nongaussian' #'gaussian' or 'nongaussian'"
   ]
  },
  {
   "cell_type": "code",
   "execution_count": null,
   "id": "da2874e2",
   "metadata": {},
   "outputs": [],
   "source": [
    "# Load Files\n",
    "data_vec_dir = output_dir + '/data_vecs'\n",
    "Clij_mult = pickle.load(open(f'{data_vec_dir}/Clij_multifrequency_{tsz_type}tsz_2ksims_tszamp150_gaussianlkl.p', 'rb'))\n",
    "Clpq_hilc_wts_vary = pickle.load(open(f'{data_vec_dir}/Clpq_hilc_{tsz_type}tsz_weightsvary_2ksims_tszamp150_gaussianlkl_sr.p', 'rb'))\n",
    "Clpq_hilc_wts_once = pickle.load(open(f'{data_vec_dir}/Clpq_hilc_{tsz_type}tsz_weightsonce_2ksims_tszamp150_gaussianlkl_sr.p', 'rb'))\n",
    "Clpq_nilc = pickle.load(open(f'{data_vec_dir}/Clpq_nilc_{tsz_type}tsz_2ksims_tszamp150_gaussianlkl_4scales.p', 'rb'))\n"
   ]
  },
  {
   "cell_type": "markdown",
   "id": "32ccdb0d",
   "metadata": {},
   "source": [
    "# Mean input power spectra over all simulations"
   ]
  },
  {
   "cell_type": "code",
   "execution_count": null,
   "id": "33c98922",
   "metadata": {},
   "outputs": [],
   "source": [
    "def tsz_spectral_response(freqs):\n",
    "    '''\n",
    "    ARGUMENTS\n",
    "    ---------\n",
    "    freqs: 1D numpy array, contains frequencies (GHz) for which to calculate tSZ spectral response\n",
    "\n",
    "    RETURNS\n",
    "    ---------\n",
    "    1D array containing tSZ spectral response to each frequency\n",
    "    '''\n",
    "    T_cmb = 2.726\n",
    "    h = 6.62607004*10**(-34)\n",
    "    kb = 1.38064852*10**(-23)\n",
    "    response = []\n",
    "    for freq in freqs:\n",
    "        x = h*(freq*10**9)/(kb*T_cmb) #x is v/56.9 GHz\n",
    "        response.append(T_cmb*(x*1/np.tanh(x/2)-4))\n",
    "    return np.array(response)\n",
    "    "
   ]
  },
  {
   "cell_type": "code",
   "execution_count": null,
   "id": "c30eacc9",
   "metadata": {},
   "outputs": [],
   "source": [
    "g90, g150 = tsz_spectral_response([90,150])"
   ]
  },
  {
   "cell_type": "code",
   "execution_count": null,
   "id": "2168b42f",
   "metadata": {},
   "outputs": [],
   "source": [
    "\n",
    "Clij_mult_mean = np.mean(Clij_mult, axis=0)\n",
    "cmb_fiducial = Clij_mult_mean[0,0,1]\n",
    "tsz_90_fiducial = Clij_mult_mean[0,0,2]\n",
    "tsz_150_fiducial = Clij_mult_mean[1,1,2]\n",
    "tsz_90x150_fiducial = Clij_mult_mean[0,1,2]\n",
    "total_90_fiducial = Clij_mult_mean[0,0,0]\n",
    "total_150_fiducial = Clij_mult_mean[1,1,0]\n",
    "total_90x150_fiducial = Clij_mult_mean[0,1,0]\n",
    "\n",
    "ells = np.arange(ellmax+1)\n",
    "res = stats.binned_statistic(ells[2:], ells[2:], statistic='mean', bins=Nbins)\n",
    "mean_ells = np.round((res[1][:-1]+res[1][1:])/2)\n",
    "to_dl = mean_ells*(mean_ells+1)/2/np.pi\n",
    "\n",
    "plt.plot(mean_ells, to_dl*cmb_fiducial, label='CMB', linestyle='dashed', color='k')\n",
    "plt.plot(mean_ells, to_dl*tsz_90_fiducial, label='ftSZ 90 GHz', linestyle='dotted', color='blue')\n",
    "plt.plot(mean_ells, to_dl*tsz_150_fiducial, label='ftSZ 150 GHz', linestyle='dotted', color='red')\n",
    "plt.plot(mean_ells, to_dl*tsz_90x150_fiducial, label='ftSZ 90x150 GHz', linestyle='dotted', color='green')\n",
    "\n",
    "plt.plot(mean_ells, to_dl*total_90_fiducial, label='Total 90 GHz', color='blue')\n",
    "plt.plot(mean_ells, to_dl*total_150_fiducial, label='Total 150 GHz', color='red')\n",
    "plt.plot(mean_ells, to_dl*total_90x150_fiducial, label='Total 90x150 GHz', color='green')\n",
    "\n",
    "plt.xlabel(r'$\\ell$')\n",
    "plt.ylabel(r'$\\ell(\\ell+1)C_\\ell/(2\\pi)$')\n",
    "plt.legend(fontsize=12)\n",
    "plt.grid()\n",
    "plt.xlim(mean_ells[0], mean_ells[-1])\n",
    "\n"
   ]
  },
  {
   "cell_type": "markdown",
   "id": "4b7e52f8",
   "metadata": {},
   "source": [
    "# Input power spectra for one simulation"
   ]
  },
  {
   "cell_type": "code",
   "execution_count": null,
   "id": "75417b15",
   "metadata": {},
   "outputs": [],
   "source": [
    "sim=0\n",
    "cmb= Clij_mult[sim,0,0,1]\n",
    "tsz_90 = Clij_mult[sim,0,0,2]\n",
    "tsz_150 = Clij_mult[sim,1,1,2]\n",
    "tsz_90x150 = Clij_mult[sim,0,1,2]\n",
    "total_90 = Clij_mult[sim,0,0,0]\n",
    "total_150 = Clij_mult[sim,1,1,0]\n",
    "total_90x150 = Clij_mult[sim,0,1,0]\n",
    "\n",
    "ells = np.arange(ellmax+1)\n",
    "res = stats.binned_statistic(ells[2:], ells[2:], statistic='mean', bins=Nbins)\n",
    "mean_ells = np.round((res[1][:-1]+res[1][1:])/2)\n",
    "to_dl = mean_ells*(mean_ells+1)/2/np.pi\n",
    "\n",
    "plt.plot(mean_ells, to_dl*cmb, label='CMB', linestyle='dashdot', color='k')\n",
    "plt.plot(mean_ells, to_dl*tsz_90, label='ftSZ 90 GHz', linestyle='dotted', color='blue')\n",
    "plt.plot(mean_ells, to_dl*tsz_150, label='ftSZ 150 GHz', linestyle='dotted', color='red')\n",
    "plt.plot(mean_ells, to_dl*tsz_90x150, label=r'ftSZ 90$\\times$150 GHz', linestyle='dotted', color='green')\n",
    "\n",
    "plt.plot(mean_ells, to_dl*(cmb_fiducial+tsz_90), label='CMB+ftSZ 90 GHz', linestyle='solid', color='blue')\n",
    "plt.plot(mean_ells, to_dl*(cmb_fiducial+tsz_150), label='CMB+ftSZ 150 GHz', linestyle='solid', color='red')\n",
    "plt.plot(mean_ells, to_dl*(cmb_fiducial+tsz_90x150), label=r'CMB+ftSZ 90$\\times$150 GHz', linestyle='solid', color='green')\n",
    "\n",
    "plt.plot(mean_ells, to_dl*total_90, label='Total 90 GHz', color='cyan', linestyle='dashed')\n",
    "plt.plot(mean_ells, to_dl*total_150, label='Total 150 GHz', color='orange', linestyle='dashed')\n",
    "plt.plot(mean_ells, to_dl*total_90x150, label=r'Total 90$\\times$150 GHz', color='lime', linestyle='dashed')\n",
    "plt.xlabel(r'$\\ell$')\n",
    "plt.ylabel(r'$\\ell(\\ell+1)C_\\ell/(2\\pi)$ $[\\mathrm{K}^2]$')\n",
    "plt.legend(fontsize=11)\n",
    "plt.grid()\n",
    "plt.xlim(mean_ells[0], mean_ells[-1])\n",
    "if save:\n",
    "    plt.savefig('input_spectra_one_sim.pdf', bbox_inches='tight')"
   ]
  },
  {
   "cell_type": "markdown",
   "id": "859b702a",
   "metadata": {},
   "source": [
    "# Mean ILC spectra over all simulations"
   ]
  },
  {
   "cell_type": "code",
   "execution_count": null,
   "id": "34b7566d",
   "metadata": {},
   "outputs": [],
   "source": [
    "def get_ILC_spectra(Clpq):\n",
    "    '''\n",
    "    ARGUMENTS\n",
    "    ---------\n",
    "    Clpq: (Nscalings, 2, 2, N_preserved_comps, N_preserved_comps, Nbins) ndarray containing\n",
    "        scaled and unscaled ILC map auto- and cross-spectra\n",
    "\n",
    "    RETURNS\n",
    "    ---------\n",
    "    ClTT: (Nbins, ) array containing auto-spectrum of T map\n",
    "    ClTy: (Nbins, ) array containing cross-spectrum of T and y map\n",
    "    Clyy: (Nbins, ) array containing auto-spectrum of y map\n",
    "    '''\n",
    "    Clpq = Clpq[0,0,0]\n",
    "    ClTT, ClTy, Clyy = Clpq[0,0], Clpq[0,1], Clpq[1,1]\n",
    "    return ClTT, ClTy, Clyy"
   ]
  },
  {
   "cell_type": "code",
   "execution_count": null,
   "id": "b96500bd",
   "metadata": {},
   "outputs": [],
   "source": [
    "Clij_mult_mean = np.mean(Clij_mult, axis=0)\n",
    "cmb_fiducial = Clij_mult_mean[0,0,1]\n",
    "comptony_fiducial = Clij_mult_mean[0,0,2]/g90**2\n",
    "\n",
    "ells = np.arange(ellmax+1)\n",
    "res = stats.binned_statistic(ells[2:], ells[2:], statistic='mean', bins=Nbins)\n",
    "mean_ells = np.round((res[1][:-1]+res[1][1:])/2)\n",
    "to_dl = mean_ells*(mean_ells+1)/2/np.pi\n",
    "\n",
    "cltt_hilc, clty_hilc, clyy_hilc = get_ILC_spectra(np.mean(Clpq_hilc_wts_once, axis=0))\n",
    "cltt_nilc, clty_nilc, clyy_nilc = get_ILC_spectra(np.mean(Clpq_nilc, axis=0))\n",
    "\n",
    "plt.plot(mean_ells, to_dl*cmb_fiducial, label='CMB', linestyle='solid', color='blue')\n",
    "plt.plot(mean_ells, to_dl*np.zeros_like(cmb_fiducial), label='CMB ' + r'$\\times$' + '\\n' + r'Amplified Compton-$y$', linestyle='solid', color='red')\n",
    "plt.plot(mean_ells, to_dl*comptony_fiducial, label=r'Amplified Compton-$y$', linestyle='solid', color='darkgreen')\n",
    "plt.plot(mean_ells, to_dl*cltt_hilc, label=r'$C_\\ell^{\\hat{T}\\hat{T}}$'+ '\\nharmonic ILC', linestyle='dashed', color='lightblue')\n",
    "plt.plot(mean_ells, to_dl*clty_hilc, label=r'$C_\\ell^{\\hat{T}\\hat{y}}$'+ '\\nharmonic ILC', linestyle='dashed', color='orange')\n",
    "plt.plot(mean_ells, to_dl*clyy_hilc, label=r'$C_\\ell^{\\hat{y}\\hat{y}}$'+ '\\nharmonic ILC', linestyle='dashed', color='mediumspringgreen')\n",
    "plt.plot(mean_ells, to_dl*cltt_nilc, label=r'$C_\\ell^{\\hat{T}\\hat{T}}$'+ '\\nneedlet ILC', linestyle='dotted', color='cyan')\n",
    "plt.plot(mean_ells, to_dl*clty_nilc, label=r'$C_\\ell^{\\hat{T}\\hat{y}}$'+ '\\nneedlet ILC', linestyle='dotted', color='salmon')\n",
    "plt.plot(mean_ells, to_dl*clyy_nilc, label=r'$C_\\ell^{\\hat{y}\\hat{y}}$'+ '\\nneedlet ILC', linestyle='dotted', color='olive')\n",
    "plt.xlabel(r'$\\ell$')\n",
    "plt.ylabel(r'$\\ell(\\ell+1)C_\\ell/(2\\pi)$')\n",
    "plt.legend(fontsize=12, ncol=1, bbox_to_anchor=(1.0, 1.0))\n",
    "plt.grid()\n",
    "plt.xlim(mean_ells[0], mean_ells[-1])\n",
    "if save:\n",
    "    plt.savefig('ILC_spectra.pdf', bbox_inches='tight')"
   ]
  },
  {
   "cell_type": "markdown",
   "id": "91542981",
   "metadata": {},
   "source": [
    "# ILC spectra for a few simulations"
   ]
  },
  {
   "cell_type": "code",
   "execution_count": null,
   "id": "fc6da401",
   "metadata": {},
   "outputs": [],
   "source": [
    "fig, axs = plt.subplots(1,3, figsize=(10,5), sharey=True)\n",
    "\n",
    "sims = [0,1,2]\n",
    "for i in range(3):\n",
    "    plt.axes(axs[i])\n",
    "    \n",
    "    sim = sims[i]\n",
    "\n",
    "    cmb = Clij_mult[sim, 0,0,1]\n",
    "    comptony = Clij_mult[sim, 0,0,2]/g90**2\n",
    "\n",
    "    ells = np.arange(ellmax+1)\n",
    "    res = stats.binned_statistic(ells[2:], ells[2:], statistic='mean', bins=Nbins)\n",
    "    mean_ells = np.round((res[1][:-1]+res[1][1:])/2)\n",
    "    to_dl = mean_ells*(mean_ells+1)/2/np.pi\n",
    "\n",
    "    cltt_hilc, clty_hilc, clyy_hilc = get_ILC_spectra(Clpq_hilc_wts_vary[sim])\n",
    "    cltt_nilc, clty_nilc, clyy_nilc = get_ILC_spectra(Clpq_nilc[sim])\n",
    "\n",
    "    plt.plot(mean_ells, to_dl*cmb_fiducial, label='CMB', linestyle='solid', color='blue')\n",
    "    plt.plot(mean_ells, to_dl*np.zeros_like(cmb_fiducial), label='CMB x Compton-y', linestyle='solid', color='red')\n",
    "    plt.plot(mean_ells, to_dl*comptony_fiducial, label='Compton-y', linestyle='solid', color='darkgreen')\n",
    "    plt.plot(mean_ells, to_dl*cltt_hilc, label='ClTT HILC', linestyle='dashed', color='lightblue')\n",
    "    plt.plot(mean_ells, to_dl*clty_hilc, label='ClTy HILC', linestyle='dashed', color='orange')\n",
    "    plt.plot(mean_ells, to_dl*clyy_hilc, label='Clyy HILC', linestyle='dashed', color='mediumspringgreen')\n",
    "    plt.plot(mean_ells, to_dl*cltt_nilc, label='ClTT NILC', linestyle='dotted', color='cyan')\n",
    "    plt.plot(mean_ells, to_dl*clty_nilc, label='ClTy NILC', linestyle='dotted', color='salmon')\n",
    "    plt.plot(mean_ells, to_dl*clyy_nilc, label='Clyy NILC', linestyle='dotted', color='olive')\n",
    "    plt.xlabel(r'$\\ell$')\n",
    "    if i==0:\n",
    "        plt.ylabel(r'$\\ell(\\ell+1)C_\\ell/(2\\pi)$')\n",
    "    plt.grid()\n",
    "    plt.xlim(mean_ells[0], mean_ells[-1])\n",
    "    plt.title(f'Simulation {sim}', fontsize=16)\n",
    "    \n",
    "handles, labels = axs[-1].get_legend_handles_labels() \n",
    "fig.legend(handles, labels, fontsize=12, bbox_to_anchor=(0.85, 0.0), ncol=3)"
   ]
  },
  {
   "cell_type": "code",
   "execution_count": null,
   "id": "500d07d8",
   "metadata": {},
   "outputs": [],
   "source": [
    "fig, axs = plt.subplots(1,3, figsize=(10,5), sharey=True)\n",
    "\n",
    "sims = [0,1,2]\n",
    "for i in range(3):\n",
    "    plt.axes(axs[i])\n",
    "    \n",
    "    sim = sims[i]\n",
    "\n",
    "    cmb = Clij_mult[sim, 0,0,1]\n",
    "    comptony = Clij_mult[sim, 0,0,2]/g90**2\n",
    "\n",
    "    ells = np.arange(ellmax+1)\n",
    "    res = stats.binned_statistic(ells[2:], ells[2:], statistic='mean', bins=Nbins)\n",
    "    mean_ells = np.round((res[1][:-1]+res[1][1:])/2)\n",
    "    to_dl = mean_ells*(mean_ells+1)/2/np.pi\n",
    "\n",
    "    cltt_hilc, clty_hilc, clyy_hilc = get_ILC_spectra(Clpq_hilc_wts_vary[sim])\n",
    "    cltt_nilc, clty_nilc, clyy_nilc = get_ILC_spectra(Clpq_nilc[sim])\n",
    "\n",
    "    plt.plot(mean_ells, to_dl*cmb_fiducial, label='CMB', linestyle='solid', color='blue')\n",
    "    plt.plot(mean_ells, to_dl*np.zeros_like(cmb_fiducial), label='CMB x Compton-y', linestyle='solid', color='red')\n",
    "    plt.plot(mean_ells, to_dl*comptony_fiducial, label='Compton-y', linestyle='solid', color='darkgreen')\n",
    "    plt.plot(mean_ells, to_dl*cltt_hilc, label='ClTT HILC', linestyle='dashed', color='lightblue')\n",
    "    plt.plot(mean_ells, to_dl*clty_hilc, label='ClTy HILC', linestyle='dashed', color='orange')\n",
    "    plt.plot(mean_ells, to_dl*clyy_hilc, label='Clyy HILC', linestyle='dashed', color='mediumspringgreen')\n",
    "    plt.plot(mean_ells, to_dl*cltt_nilc, label='ClTT NILC', linestyle='dotted', color='cyan')\n",
    "    plt.plot(mean_ells, to_dl*clty_nilc, label='ClTy NILC', linestyle='dotted', color='salmon')\n",
    "    plt.plot(mean_ells, to_dl*clyy_nilc, label='Clyy NILC', linestyle='dotted', color='olive')\n",
    "    plt.xlabel(r'$\\ell$')\n",
    "    if i==0:\n",
    "        plt.ylabel(r'$\\ell(\\ell+1)C_\\ell/(2\\pi)$')\n",
    "    plt.grid()\n",
    "    plt.xlim(mean_ells[0], mean_ells[-1])\n",
    "    plt.title(f'Simulation {sim}', fontsize=16)\n",
    "    \n",
    "handles, labels = axs[-1].get_legend_handles_labels() \n",
    "fig.legend(handles, labels, fontsize=12, bbox_to_anchor=(0.85, 0.0), ncol=3)"
   ]
  },
  {
   "cell_type": "markdown",
   "id": "f77232b9",
   "metadata": {},
   "source": [
    "# Plot Covariance and Correlation Matrices"
   ]
  },
  {
   "cell_type": "code",
   "execution_count": null,
   "id": "266fd1de",
   "metadata": {},
   "outputs": [],
   "source": [
    "from matplotlib.colors import SymLogNorm, LogNorm"
   ]
  },
  {
   "cell_type": "code",
   "execution_count": null,
   "id": "5c10e052",
   "metadata": {},
   "outputs": [],
   "source": [
    "def get_PScov_sim(Clpq_unscaled):\n",
    "    '''\n",
    "    ARGUMENTS\n",
    "    ---------\n",
    "    inp: Info object containing input paramter specifications\n",
    "    Clpq_unscaled: (Nsims, N_preserved_comps=2, N_preserved_comps=2, Nbins) ndarray \n",
    "        containing propagation of each pair of component maps\n",
    "        to NILC map auto- and cross-spectra\n",
    "    \n",
    "    RETURNS\n",
    "    -------\n",
    "    cov: (3*Nbins, 3*Nbins) ndarray containing covariance matrix Cov_{pq,rs}\n",
    "        index as cov[(0-2 for ClTT ClTy Clyy)*Nbins + bin1, (0-2 for ClTT ClTy Clyy)*Nbins + bin2]\n",
    "    '''\n",
    "    Clpq_tmp = Clpq_unscaled\n",
    "    Clpq_tmp = np.array([Clpq_tmp[:,0,0], Clpq_tmp[:,0,1], Clpq_tmp[:,1,1]])\n",
    "    Clpq_tmp = np.transpose(Clpq_tmp, axes=(0,2,1)) #shape (3 for ClTT, ClTy, Clyy, Nbins, Nsims)\n",
    "    Clpq_tmp = np.reshape(Clpq_tmp, (Nbins*3, -1))\n",
    "    cov = np.cov(Clpq_tmp)\n",
    "    return cov"
   ]
  },
  {
   "cell_type": "code",
   "execution_count": null,
   "id": "5d586493",
   "metadata": {},
   "outputs": [],
   "source": [
    "def plot_cov_matrix(Clpq, title=None, corr=False, colorbar=False):\n",
    "    PScov = get_PScov_sim(Clpq[:,0,0,0])\n",
    "    if not corr:\n",
    "        plt.imshow(np.abs(PScov), norm=LogNorm(vmin=1.e-28, vmax=1.e-24))\n",
    "    else:\n",
    "        diag = np.diag(PScov)\n",
    "        PScorr = np.einsum('ab,a,b->ab', PScov, 1/np.sqrt(diag), 1/np.sqrt(diag))\n",
    "        plt.imshow(PScorr, vmin=-1., vmax=1.)\n",
    "    ax = plt.gca()\n",
    "    ax.set_xticks([5,15,25])\n",
    "    ax.set_yticks([5,15,25])\n",
    "    ax.set_xticklabels([r'$C_\\ell^{\\hat{T}\\hat{T}}$', r'$C_\\ell^{\\hat{T}\\hat{y}}$', r'$C_\\ell^{\\hat{y}\\hat{y}}$'])\n",
    "    ax.set_yticklabels([r'$C_\\ell^{\\hat{T}\\hat{T}}$', r'$C_\\ell^{\\hat{T}\\hat{y}}$', r'$C_\\ell^{\\hat{y}\\hat{y}}$'])\n",
    "    if colorbar:\n",
    "        plt.colorbar()\n",
    "    if title:\n",
    "        plt.title(title, fontsize=15)"
   ]
  },
  {
   "cell_type": "code",
   "execution_count": null,
   "id": "376deaf8",
   "metadata": {},
   "outputs": [],
   "source": [
    "fig, axs = plt.subplots(2,3, figsize=(9,6), sharey=True, sharex=True, layout='constrained')\n",
    "axs = axs.flatten()\n",
    "ax = 0\n",
    "for i in range(2):\n",
    "    corr = (not i)\n",
    "    corr_str = 'Corr' if corr else (r'$|$Cov$|$')\n",
    "    for j in range(3):\n",
    "        plt.axes(axs[ax])\n",
    "        title = corr_str\n",
    "        if j==0:\n",
    "            Clpq = Clpq_nilc\n",
    "            title = 'NILC ' + title\n",
    "        elif j==1:\n",
    "            Clpq = Clpq_hilc_wts_vary\n",
    "            title = 'HILC (weights vary) ' + title\n",
    "        else:\n",
    "            Clpq = Clpq_hilc_wts_once\n",
    "            title = 'HILC (weights fixed) ' + title\n",
    "        colorbar=True if j==2 else False\n",
    "        plot_cov_matrix(Clpq, title=title, corr=corr, colorbar=colorbar)\n",
    "        ax += 1\n",
    "if save:\n",
    "    plt.savefig('cov.pdf', bbox_inches='tight')\n",
    "        \n",
    "        \n",
    "    "
   ]
  },
  {
   "cell_type": "code",
   "execution_count": null,
   "id": "6dbf60d2",
   "metadata": {},
   "outputs": [],
   "source": []
  }
 ],
 "metadata": {
  "kernelspec": {
   "display_name": "Python 3 (ipykernel)",
   "language": "python",
   "name": "python3"
  },
  "language_info": {
   "codemirror_mode": {
    "name": "ipython",
    "version": 3
   },
   "file_extension": ".py",
   "mimetype": "text/x-python",
   "name": "python",
   "nbconvert_exporter": "python",
   "pygments_lexer": "ipython3",
   "version": "3.9.18"
  }
 },
 "nbformat": 4,
 "nbformat_minor": 5
}
