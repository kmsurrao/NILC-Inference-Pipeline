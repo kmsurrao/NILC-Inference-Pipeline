{
 "cells": [
  {
   "cell_type": "code",
   "execution_count": null,
   "id": "d7bbd8e3",
   "metadata": {},
   "outputs": [],
   "source": [
    "import numpy as np\n",
    "import pickle\n",
    "import healpy as hp\n",
    "import matplotlib.pyplot as plt\n",
    "import os\n",
    "import subprocess\n",
    "import sys\n",
    "import scipy\n",
    "from scipy.optimize import minimize\n",
    "from scipy import stats\n",
    "from matplotlib.ticker import FormatStrFormatter\n",
    "from getdist import plots, MCSamples\n",
    "import getdist"
   ]
  },
  {
   "cell_type": "code",
   "execution_count": null,
   "id": "34813c79",
   "metadata": {},
   "outputs": [],
   "source": [
    "font = {'size'   : 20, 'family':'STIXGeneral'}\n",
    "plt.rcParams.update({\n",
    "     'text.usetex': True,\n",
    "     'font.family': 'serif',\n",
    "     'font.sans-serif': ['Computer Modern'],\n",
    "     'font.size':20})\n",
    "plt.rc_context({'axes.autolimit_mode': 'round_numbers'})\n",
    "\n",
    "getdist.plots.GetDistPlotSettings.legend_fontsize = 14"
   ]
  },
  {
   "cell_type": "markdown",
   "id": "bb453ae2",
   "metadata": {},
   "source": [
    "### To run this notebook, first run all the pipelines with each of the example yaml files, using the same output_dir for all of them. "
   ]
  },
  {
   "cell_type": "code",
   "execution_count": null,
   "id": "f75515b1",
   "metadata": {},
   "outputs": [],
   "source": [
    "save = True #whether to save plots\n",
    "Nsims_lfi = 40000 #number of sims used in LFI\n",
    "tsz_type = 'nongaussian' #either 'gaussian' or 'nongaussian' (whichever was used in the yaml files)\n",
    "output_dir = '/Users/kristen/Documents/GitHub/NILC-Inference-Pipeline/plotting_notebooks/tests/outputs_90_150' #output_dir that was used in the yaml files\n",
    "\n"
   ]
  },
  {
   "cell_type": "markdown",
   "id": "e70e3949",
   "metadata": {},
   "source": [
    "# Load Files"
   ]
  },
  {
   "cell_type": "code",
   "execution_count": null,
   "id": "5284a11d",
   "metadata": {},
   "outputs": [],
   "source": [
    "posteriors_dir = output_dir + '/posteriors'\n",
    "\n",
    "# LFI\n",
    "a_mult_lfi = pickle.load(open(f'{posteriors_dir}/a_array_multifrequency_{tsz_type}tsz_{Nsims_lfi//1000}ksims_tszamp150_lfi.p', 'rb'))\n",
    "a_hilc_wts_once_lfi = pickle.load(open(f'{posteriors_dir}/a_array_HILC_{tsz_type}tsz_weightsonce_{Nsims_lfi//1000}ksims_tszamp150_lfi.p', 'rb'))\n",
    "a_hilc_wts_vary_lfi = pickle.load(open(f'{posteriors_dir}/a_array_HILC_{tsz_type}tsz_weightsvary_{Nsims_lfi//1000}ksims_tszamp150_lfi.p', 'rb'))\n",
    "a_nilc_lfi = pickle.load(open(f'{posteriors_dir}/a_array_NILC_{tsz_type}tsz_{Nsims_lfi//1000}ksims_tszamp150_lfi_4scales.p', 'rb'))\n",
    "recentered_lfi = []\n",
    "for pipeline in [a_mult_lfi, a_hilc_wts_once_lfi, a_hilc_wts_vary_lfi, a_nilc_lfi]:\n",
    "    acmb, atsz = pipeline\n",
    "    recentered_lfi.append(np.array([acmb+(1-np.mean(acmb)), atsz+(1-np.mean(atsz))]))\n",
    "a_mult_lfi_recentered, a_hilc_wts_once_lfi_recentered, a_hilc_wts_vary_lfi_recentered, a_nilc_lfi_recentered = recentered_lfi\n",
    "\n",
    "# Gaussian likelihood\n",
    "a_mult_gaussianlkl = pickle.load(open(f'{posteriors_dir}/a_array_multifrequency_{tsz_type}tsz_2ksims_tszamp150_gaussianlkl.p', 'rb'))\n",
    "a_hilc_wts_once_analytic = pickle.load(open(f'{posteriors_dir}/a_array_HILC_{tsz_type}tsz_weightsonce_2ksims_tszamp150_gaussianlkl_analytic.p', 'rb'))\n",
    "a_hilc_wts_once_sr = pickle.load(open(f'{posteriors_dir}/a_array_HILC_{tsz_type}tsz_weightsonce_2ksims_tszamp150_gaussianlkl_sr.p', 'rb'))\n",
    "a_hilc_wts_vary_gaussianlkl = pickle.load(open(f'{posteriors_dir}/a_array_HILC_{tsz_type}tsz_weightsvary_2ksims_tszamp150_gaussianlkl_sr.p', 'rb'))\n",
    "a_nilc_gaussianlkl = pickle.load(open(f'{posteriors_dir}/a_array_NILC_{tsz_type}tsz_2ksims_tszamp150_gaussianlkl_4scales.p', 'rb'))\n"
   ]
  },
  {
   "cell_type": "markdown",
   "id": "a032701d",
   "metadata": {},
   "source": [
    "# Create MCSamples Objects"
   ]
  },
  {
   "cell_type": "code",
   "execution_count": null,
   "id": "2df4659e",
   "metadata": {},
   "outputs": [],
   "source": [
    "hilc_wts_once_lfi = a_hilc_wts_once_lfi.T\n",
    "hilc_wts_vary_lfi = a_hilc_wts_vary_lfi.T\n",
    "nilc_lfi = a_nilc_lfi.T\n",
    "mult_lfi = a_mult_lfi.T\n",
    "hilc_wts_once_lfi_recentered = a_hilc_wts_once_lfi_recentered.T\n",
    "hilc_wts_vary_lfi_recentered = a_hilc_wts_vary_lfi_recentered.T\n",
    "nilc_lfi_recentered = a_nilc_lfi_recentered.T\n",
    "mult_lfi_recentered = a_mult_lfi_recentered.T\n",
    "\n",
    "names = [r'$A_{\\mathrm{CMB}}$', r'$A_{\\mathrm{ftSZ}}$']\n",
    "labels =  names\n",
    "\n",
    "samples_hilc_wts_once_lfi = MCSamples(samples=hilc_wts_once_lfi, names = names, labels = labels, label='HILC (weights once) LFI')\n",
    "samples_hilc_wts_vary_lfi = MCSamples(samples=hilc_wts_vary_lfi, names = names, labels = labels, label='HILC (weights vary) LFI')\n",
    "samples_nilc_lfi = MCSamples(samples=nilc_lfi, names = names, labels = labels, label='NILC LFI')\n",
    "samples_mult_lfi = MCSamples(samples=mult_lfi, names = names, labels = labels, label='Multifrequency LFI')\n",
    "\n",
    "samples_hilc_wts_once_lfi_recentered = MCSamples(samples=hilc_wts_once_lfi_recentered, names = names, labels = labels, label='HILC (weights once) LFI (shifted)')\n",
    "samples_hilc_wts_vary_lfi_recentered = MCSamples(samples=hilc_wts_vary_lfi_recentered, names = names, labels = labels, label='HILC (weights vary) LFI (shifted)')\n",
    "samples_nilc_lfi_recentered = MCSamples(samples=nilc_lfi_recentered, names = names, labels = labels, label='NILC LFI (shifted)')\n",
    "samples_mult_lfi_recentered = MCSamples(samples=mult_lfi_recentered, names = names, labels = labels, label='Multifrequency LFI (shifted)')\n",
    "\n"
   ]
  },
  {
   "cell_type": "code",
   "execution_count": null,
   "id": "8e04c0e2",
   "metadata": {},
   "outputs": [],
   "source": [
    "hilc_wts_once_analytic = a_hilc_wts_once_analytic.T\n",
    "hilc_wts_once_sr = a_hilc_wts_once_sr.T\n",
    "hilc_wts_vary_gaussianlkl = a_hilc_wts_vary_gaussianlkl.T\n",
    "nilc_gaussianlkl = a_nilc_gaussianlkl.T\n",
    "mult_gaussianlkl = a_mult_gaussianlkl.T\n",
    "\n",
    "\n",
    "samples_hilc_wts_once_analytic = MCSamples(samples=hilc_wts_once_analytic, names = names, labels = labels, label='HILC (weights once) \\nGaussian Likelihood\\n(Analytic)')\n",
    "samples_hilc_wts_once_sr = MCSamples(samples=hilc_wts_once_sr, names = names, labels = labels, label='HILC (weights once) \\nGaussian Likelihood (SR)')\n",
    "samples_hilc_wts_vary_sr = MCSamples(samples=hilc_wts_vary_gaussianlkl, names = names, labels = labels, label='HILC (weights vary) \\nGaussian Likelihood')\n",
    "samples_nilc_gaussianlkl = MCSamples(samples=nilc_gaussianlkl, names = names, labels = labels, label='NILC \\nGaussian Likelihood')\n",
    "samples_mult_gaussianlkl = MCSamples(samples=mult_gaussianlkl, names = names, labels = labels, label='Multifrequency \\nGaussian Likelihood')\n"
   ]
  },
  {
   "cell_type": "markdown",
   "id": "10da3a53",
   "metadata": {},
   "source": [
    "# Posteriors from Likelihood-Free Inference"
   ]
  },
  {
   "cell_type": "code",
   "execution_count": null,
   "id": "16f0dbe4",
   "metadata": {
    "scrolled": false
   },
   "outputs": [],
   "source": [
    "g = plots.get_subplot_plotter()\n",
    "g.triangle_plot([samples_mult_lfi, samples_hilc_wts_once_lfi, samples_hilc_wts_vary_lfi, samples_nilc_lfi], filled=True)\n",
    "if save:\n",
    "    plt.savefig(f'lfi_posteriors_{tsz_type}tsz.pdf')\n"
   ]
  },
  {
   "cell_type": "markdown",
   "id": "81734a97",
   "metadata": {},
   "source": [
    "# Posteriors from Gaussian Likelihood"
   ]
  },
  {
   "cell_type": "code",
   "execution_count": null,
   "id": "4e973305",
   "metadata": {},
   "outputs": [],
   "source": [
    "g = plots.get_subplot_plotter()\n",
    "g.triangle_plot([samples_mult_gaussianlkl, samples_hilc_wts_once_analytic, samples_hilc_wts_once_sr, samples_hilc_wts_vary_sr, samples_nilc_gaussianlkl], filled=True)\n",
    "if save:\n",
    "    plt.savefig(f'gaussianlkl_posteriors_{tsz_type}tsz.pdf')"
   ]
  },
  {
   "cell_type": "markdown",
   "id": "1f91d799",
   "metadata": {},
   "source": [
    "# Compare LFI to Gaussian Likelihood"
   ]
  },
  {
   "cell_type": "code",
   "execution_count": null,
   "id": "ebb78d55",
   "metadata": {},
   "outputs": [],
   "source": [
    "g = plots.get_subplot_plotter()\n",
    "g.triangle_plot([samples_mult_gaussianlkl, samples_mult_lfi, samples_mult_lfi_recentered], filled=True)\n",
    "if save:\n",
    "    plt.savefig(f'multifrequency_posteriors_{tsz_type}tsz.pdf')"
   ]
  },
  {
   "cell_type": "code",
   "execution_count": null,
   "id": "6964223a",
   "metadata": {},
   "outputs": [],
   "source": [
    "g = plots.get_subplot_plotter()\n",
    "g.triangle_plot([samples_hilc_wts_once_analytic, samples_hilc_wts_once_sr, samples_hilc_wts_once_lfi, samples_hilc_wts_once_lfi_recentered], filled=True)\n",
    "if save:\n",
    "    plt.savefig(f'hilc_wts_once_posteriors_{tsz_type}tsz.pdf')"
   ]
  },
  {
   "cell_type": "code",
   "execution_count": null,
   "id": "a577a85a",
   "metadata": {},
   "outputs": [],
   "source": [
    "g = plots.get_subplot_plotter()\n",
    "g.triangle_plot([samples_hilc_wts_vary_sr, samples_hilc_wts_vary_lfi, samples_hilc_wts_vary_lfi_recentered], filled=True)\n",
    "if save:\n",
    "    plt.savefig(f'hilc_wts_vary_posteriors_{tsz_type}tsz.pdf')"
   ]
  },
  {
   "cell_type": "code",
   "execution_count": null,
   "id": "7a018fac",
   "metadata": {},
   "outputs": [],
   "source": [
    "g = plots.get_subplot_plotter()\n",
    "g.triangle_plot([samples_nilc_gaussianlkl, samples_nilc_lfi, samples_nilc_lfi_recentered], filled=True)\n",
    "if save:\n",
    "    plt.savefig(f'nilc_posteriors_{tsz_type}tsz.pdf')"
   ]
  },
  {
   "cell_type": "markdown",
   "id": "e1696936",
   "metadata": {},
   "source": [
    "# Print Parameter Values for LFI"
   ]
  },
  {
   "cell_type": "code",
   "execution_count": null,
   "id": "02637754",
   "metadata": {},
   "outputs": [],
   "source": [
    "for par in [r\"$A_{\\mathrm{CMB}}$\", r'$A_{\\mathrm{ftSZ}}$']:\n",
    "    print(samples_mult_lfi.getInlineLatex(par,limit=1))"
   ]
  },
  {
   "cell_type": "code",
   "execution_count": null,
   "id": "4c70efc3",
   "metadata": {},
   "outputs": [],
   "source": [
    "for par in [r\"$A_{\\mathrm{CMB}}$\", r'$A_{\\mathrm{ftSZ}}$']:\n",
    "    print(samples_hilc_wts_once_lfi.getInlineLatex(par,limit=1))"
   ]
  },
  {
   "cell_type": "code",
   "execution_count": null,
   "id": "af3cefe9",
   "metadata": {},
   "outputs": [],
   "source": [
    "for par in [r\"$A_{\\mathrm{CMB}}$\", r'$A_{\\mathrm{ftSZ}}$']:\n",
    "    print(samples_hilc_wts_vary_lfi.getInlineLatex(par,limit=1))"
   ]
  },
  {
   "cell_type": "code",
   "execution_count": null,
   "id": "34e19e9f",
   "metadata": {
    "scrolled": true
   },
   "outputs": [],
   "source": [
    "for par in [r\"$A_{\\mathrm{CMB}}$\", r'$A_{\\mathrm{ftSZ}}$']:\n",
    "    print(samples_nilc_lfi.getInlineLatex(par,limit=1))"
   ]
  },
  {
   "cell_type": "markdown",
   "id": "cb10b17c",
   "metadata": {},
   "source": [
    "# Print Parameter Values for Gaussian Likelihood"
   ]
  },
  {
   "cell_type": "code",
   "execution_count": null,
   "id": "8f914e0a",
   "metadata": {},
   "outputs": [],
   "source": [
    "for par in [r\"$A_{\\mathrm{CMB}}$\", r'$A_{\\mathrm{ftSZ}}$']:\n",
    "    print(samples_mult_gaussianlkl.getInlineLatex(par,limit=1))"
   ]
  },
  {
   "cell_type": "code",
   "execution_count": null,
   "id": "42c5ebfe",
   "metadata": {},
   "outputs": [],
   "source": [
    "for par in [r\"$A_{\\mathrm{CMB}}$\", r'$A_{\\mathrm{ftSZ}}$']:\n",
    "    print(samples_hilc_wts_once_analytic.getInlineLatex(par,limit=1))"
   ]
  },
  {
   "cell_type": "code",
   "execution_count": null,
   "id": "fb4be8ca",
   "metadata": {},
   "outputs": [],
   "source": [
    "for par in [r\"$A_{\\mathrm{CMB}}$\", r'$A_{\\mathrm{ftSZ}}$']:\n",
    "    print(samples_hilc_wts_once_sr.getInlineLatex(par,limit=1))"
   ]
  },
  {
   "cell_type": "code",
   "execution_count": null,
   "id": "87e8cb4d",
   "metadata": {},
   "outputs": [],
   "source": [
    "for par in [r\"$A_{\\mathrm{CMB}}$\", r'$A_{\\mathrm{ftSZ}}$']:\n",
    "    print(samples_hilc_wts_vary_sr.getInlineLatex(par,limit=1))"
   ]
  },
  {
   "cell_type": "code",
   "execution_count": null,
   "id": "9557932a",
   "metadata": {},
   "outputs": [],
   "source": [
    "for par in [r\"$A_{\\mathrm{CMB}}$\", r'$A_{\\mathrm{ftSZ}}$']:\n",
    "    print(samples_nilc_gaussianlkl.getInlineLatex(par,limit=1))"
   ]
  },
  {
   "cell_type": "code",
   "execution_count": null,
   "id": "b7598159",
   "metadata": {},
   "outputs": [],
   "source": []
  }
 ],
 "metadata": {
  "kernelspec": {
   "display_name": "Python 3 (ipykernel)",
   "language": "python",
   "name": "python3"
  },
  "language_info": {
   "codemirror_mode": {
    "name": "ipython",
    "version": 3
   },
   "file_extension": ".py",
   "mimetype": "text/x-python",
   "name": "python",
   "nbconvert_exporter": "python",
   "pygments_lexer": "ipython3",
   "version": "3.9.18"
  }
 },
 "nbformat": 4,
 "nbformat_minor": 5
}
