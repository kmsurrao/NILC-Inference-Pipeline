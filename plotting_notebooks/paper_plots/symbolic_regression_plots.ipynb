{
 "cells": [
  {
   "cell_type": "code",
   "execution_count": null,
   "id": "d7bbd8e3",
   "metadata": {},
   "outputs": [],
   "source": [
    "import numpy as np\n",
    "import pickle\n",
    "import matplotlib.pyplot as plt\n",
    "from matplotlib.ticker import FormatStrFormatter"
   ]
  },
  {
   "cell_type": "code",
   "execution_count": null,
   "id": "34813c79",
   "metadata": {},
   "outputs": [],
   "source": [
    "font = {'size'   : 20, 'family':'STIXGeneral'}\n",
    "plt.rcParams.update({\n",
    "     'text.usetex': True,\n",
    "     'font.family': 'serif',\n",
    "     'font.sans-serif': ['Computer Modern'],\n",
    "     'font.size':20})\n",
    "plt.rc_context({'axes.autolimit_mode': 'round_numbers'})"
   ]
  },
  {
   "cell_type": "markdown",
   "id": "bb453ae2",
   "metadata": {},
   "source": [
    "### To run this notebook, first run all the pipelines with each of the example yaml files, using the same output_dir for all of them. "
   ]
  },
  {
   "cell_type": "code",
   "execution_count": null,
   "id": "f75515b1",
   "metadata": {},
   "outputs": [],
   "source": [
    "save = True #whether to save plots from notebook\n",
    "output_dir = '/Users/kristen/Documents/GitHub/NILC-Inference-Pipeline/plotting_notebooks/tests/outputs_90_150' #output_dir that was used in the yaml files"
   ]
  },
  {
   "cell_type": "markdown",
   "id": "32ccdb0d",
   "metadata": {},
   "source": [
    "# Power Spectrum Parameter Dependence"
   ]
  },
  {
   "cell_type": "code",
   "execution_count": null,
   "id": "10db6185",
   "metadata": {},
   "outputs": [],
   "source": [
    "fig, axs = plt.subplots(3,3, figsize=(7,7), sharey=True, sharex=True, layout='constrained')\n",
    "axs = axs.flatten()\n",
    "b = 5 #bin\n",
    "npoints = 15\n",
    "start_val, end_val = [0.9**2, 1.1**2]\n",
    "acmb_test_vals = np.linspace(start_val, end_val, npoints)\n",
    "atsz_test_vals = np.linspace(start_val, end_val, npoints)\n",
    "comps = ['CMB', 'ftSZ']\n",
    "call_fit = lambda A_vec, expr: expr.subs('x0', A_vec[0]).subs('x1', A_vec[1])\n",
    "\n",
    "ax = 0\n",
    "for pipeline in range(3):\n",
    "    #load file\n",
    "    if pipeline == 0:\n",
    "        fname = f'{output_dir}/data_vecs/best_fits_NILC_nongaussiantsz_2ksims_tszamp150_gaussianlkl_4scales.p'\n",
    "    elif pipeline == 1:\n",
    "        fname = f'{output_dir}/data_vecs/best_fits_HILC_nongaussiantsz_weightsvary_2ksims_tszamp150_gaussianlkl_sr.p'\n",
    "    else:\n",
    "        fname = f'{output_dir}/data_vecs/best_fits_HILC_nongaussiantsz_weightsonce_2ksims_tszamp150_gaussianlkl_sr.p'\n",
    "    best_fits = pickle.load(open(fname, 'rb'))   \n",
    "    \n",
    "    for p,q in [(0,0), (0,1), (1,1)]:\n",
    "        plt.axes(axs[ax])\n",
    "        arr = np.zeros((npoints, npoints))\n",
    "        for i,acmb in enumerate(acmb_test_vals):\n",
    "            for j,atsz in enumerate(atsz_test_vals):\n",
    "                arr[j,i] = call_fit([acmb, atsz], best_fits[p][q][b])\n",
    "\n",
    "        plt.imshow(arr, extent=[start_val, end_val, start_val, end_val,], vmin=0.85, vmax=1.15, origin='lower')\n",
    "        plt.xticks(fontsize=12)\n",
    "        plt.yticks(fontsize=12)\n",
    "        if ax >= 6:\n",
    "            plt.xlabel(r'$A_{\\mathrm{CMB}}$', fontsize=14)\n",
    "        if ax % 3 == 0:\n",
    "            plt.ylabel(r'$A_{\\mathrm{ftSZ}}$', fontsize=14)\n",
    "        ax += 1\n",
    "        if pipeline == 0:\n",
    "            title = 'NILC'\n",
    "        elif pipeline == 1:\n",
    "            title = 'HILC (weights vary)'\n",
    "        else:\n",
    "            title = 'HILC (weights fixed)'\n",
    "        if (p,q) == (0,0):\n",
    "            title += r' $C_\\ell^{\\hat{T}\\hat{T}}$'\n",
    "        elif (p,q) == (0,1):\n",
    "            title += r' $C_\\ell^{\\hat{T}\\hat{y}}$'\n",
    "        else:\n",
    "            title += r' $C_\\ell^{\\hat{y}\\hat{y}}$'\n",
    "        plt.title(title, fontsize=12)\n",
    "    pipeline_str = 'NILC' if pipeline == 0 else 'HILC'\n",
    "    if pipeline == 1:\n",
    "        pipeline_str += ' weights vary'\n",
    "    elif pipeline == 2:\n",
    "        pipeline_str += ' weights once'\n",
    "    print(f'{pipeline_str} expression for ClTT parameter dependence in bin {b}: ', best_fits[0][0][b])\n",
    "    print(f'{pipeline_str} expression for ClTy parameter dependence in bin {b}: ', best_fits[0][1][b])\n",
    "    print(f'{pipeline_str} expression for Clyy parameter dependence in bin {b}: ', best_fits[1][1][b])\n",
    "    print()\n",
    "\n",
    "handles, labels = axs[-1].get_legend_handles_labels() \n",
    "fig.legend(handles, labels, fontsize=10, bbox_to_anchor=(1.0, 0.05), ncol=2)\n",
    "cbar = plt.colorbar()\n",
    "cbar.ax.tick_params(labelsize=12)\n",
    "\n",
    "if save:\n",
    "    plt.savefig('SR.pdf')\n",
    "\n"
   ]
  },
  {
   "cell_type": "code",
   "execution_count": null,
   "id": "80c41246",
   "metadata": {},
   "outputs": [],
   "source": []
  }
 ],
 "metadata": {
  "kernelspec": {
   "display_name": "Python 3 (ipykernel)",
   "language": "python",
   "name": "python3"
  },
  "language_info": {
   "codemirror_mode": {
    "name": "ipython",
    "version": 3
   },
   "file_extension": ".py",
   "mimetype": "text/x-python",
   "name": "python",
   "nbconvert_exporter": "python",
   "pygments_lexer": "ipython3",
   "version": "3.9.18"
  }
 },
 "nbformat": 4,
 "nbformat_minor": 5
}
