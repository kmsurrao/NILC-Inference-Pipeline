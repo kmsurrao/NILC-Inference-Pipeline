{
 "cells": [
  {
   "cell_type": "code",
   "execution_count": null,
   "id": "d7bbd8e3",
   "metadata": {},
   "outputs": [],
   "source": [
    "import numpy as np\n",
    "import pickle\n",
    "import healpy as hp\n",
    "import matplotlib.pyplot as plt\n",
    "import os\n",
    "import subprocess\n",
    "import sys\n",
    "import scipy\n",
    "from scipy.optimize import minimize\n",
    "from scipy import stats\n",
    "from matplotlib.ticker import FormatStrFormatter\n",
    "from getdist import plots, MCSamples\n",
    "import getdist"
   ]
  },
  {
   "cell_type": "code",
   "execution_count": null,
   "id": "34813c79",
   "metadata": {},
   "outputs": [],
   "source": [
    "font = {'size'   : 20, 'family':'STIXGeneral'}\n",
    "plt.rcParams.update({\n",
    "     'text.usetex': True,\n",
    "     'font.family': 'serif',\n",
    "     'font.sans-serif': ['Computer Modern'],\n",
    "     'font.size':20})\n",
    "plt.rc_context({'axes.autolimit_mode': 'round_numbers'})\n",
    "\n",
    "getdist.plots.GetDistPlotSettings.legend_fontsize = 14\n",
    "# plt.style.use('dark_background')"
   ]
  },
  {
   "cell_type": "code",
   "execution_count": null,
   "id": "f75515b1",
   "metadata": {},
   "outputs": [],
   "source": [
    "save = False #whether to save plots\n",
    "Nsims_lfi = 30000 #number of sims used in LFI\n",
    "tsz_type = 'nongaussian' #either 'gaussian' or 'nongaussian' (whichever was used in the yaml files)\n",
    "Nsims = 2000 #number of sims used in Gaussian likelihood\n",
    "names = [r'$A_{\\mathrm{CMB}}$', r'$A_{\\mathrm{ftSZ}}$']\n",
    "labels = names"
   ]
  },
  {
   "cell_type": "code",
   "execution_count": null,
   "id": "c24e0af3",
   "metadata": {},
   "outputs": [],
   "source": [
    "def ellipse_area(sample):\n",
    "    '''\n",
    "    ARGUMENTS\n",
    "    ---------\n",
    "    sample: MCSamples object containing posteriors\n",
    "\n",
    "    RETURNS\n",
    "    ---------\n",
    "    area: float, area of 68% confidence interval Fisher ellipse\n",
    "    \n",
    "    '''\n",
    "    cov = sample.cov()\n",
    "    sigmax = np.sqrt(cov[0,0])\n",
    "    sigmay = np.sqrt(cov[1,1])\n",
    "    sigmaxy = cov[0,1]\n",
    "    a = np.sqrt((sigmax**2+sigmay**2)/2 + np.sqrt(((sigmax**2-sigmay**2)**2)/4+sigmaxy**2))\n",
    "    b = np.sqrt((sigmax**2+sigmay**2)/2 - np.sqrt(((sigmax**2-sigmay**2)**2)/4+sigmaxy**2))\n",
    "    area = np.pi*a*b*2.3 # fixed from 1.52\n",
    "    return area\n",
    "\n",
    "def tsz_spectral_response(freqs):\n",
    "    '''\n",
    "    ARGUMENTS\n",
    "    ---------\n",
    "    freqs: 1D numpy array, contains frequencies (GHz) for which to calculate tSZ spectral response\n",
    "\n",
    "    RETURNS\n",
    "    ---------\n",
    "    1D array containing tSZ spectral response to each frequency (units of K_CMB)\n",
    "    '''\n",
    "    T_cmb = 2.726\n",
    "    T_cmb_uK = 2.726e6\n",
    "    h = 6.62607004*10**(-34)\n",
    "    kb = 1.38064852*10**(-23)\n",
    "    response = []\n",
    "    for freq in freqs:\n",
    "        x = h*(freq*10**9)/(kb*T_cmb) #x is v/56.9 GHz\n",
    "        response.append(T_cmb*(x*1/np.tanh(x/2)-4))\n",
    "    return np.array(response)"
   ]
  },
  {
   "cell_type": "markdown",
   "id": "b3bef564",
   "metadata": {},
   "source": [
    "# Gaussian Likelihood"
   ]
  },
  {
   "cell_type": "markdown",
   "id": "b52fe062",
   "metadata": {},
   "source": [
    "### Multifrequency"
   ]
  },
  {
   "cell_type": "code",
   "execution_count": null,
   "id": "64cc3c60",
   "metadata": {},
   "outputs": [],
   "source": [
    "freq_strs = ['90_150', '90_120_150', '90_280', '280_353', '280_353_400' , '90_150_280', '90_150_220']\n",
    "\n",
    "samples = []\n",
    "for freq_str in freq_strs:\n",
    "    samples.append(MCSamples(samples=pickle.load(open(f'/Users/kristen/Documents/GitHub/NILC-Inference-Pipeline/plotting_notebooks/tests/outputs_{freq_str}/posteriors/a_array_multifrequency_{tsz_type}tsz_{Nsims//1000}ksims_tszamp150_gaussianlkl.p', 'rb')).T, names = names, labels = labels, label=f'Mult. PS Gauss. Lkl.\\n{freq_str.replace(\"_\", \", \")}'))\n",
    "\n",
    "g = plots.get_subplot_plotter()\n",
    "g.triangle_plot(samples, filled=True)\n",
    "plt.savefig('mult_gausslkl_freq_comparison.pdf')\n"
   ]
  },
  {
   "cell_type": "markdown",
   "id": "e336b9e3",
   "metadata": {},
   "source": [
    "### HILC (weights once)"
   ]
  },
  {
   "cell_type": "code",
   "execution_count": null,
   "id": "cab9729e",
   "metadata": {},
   "outputs": [],
   "source": [
    "freq_strs = ['90_150', '90_120_150', '90_280', '280_353', '280_353_400' , '90_150_280', '90_150_220']\n",
    "\n",
    "samples = []\n",
    "for freq_str in freq_strs:\n",
    "    samples.append(MCSamples(samples=pickle.load(open(f'/Users/kristen/Documents/GitHub/NILC-Inference-Pipeline/plotting_notebooks/tests/outputs_{freq_str}/posteriors/a_array_HILC_{tsz_type}tsz_weightsonce_{Nsims//1000}ksims_tszamp150_gaussianlkl_analytic.p', 'rb')).T, names = names, labels = labels, label=f'HILC (weights once)\\n Gauss. Lkl. {freq_str.replace(\"_\", \", \")}'))\n",
    "\n",
    "    \n",
    "g = plots.get_subplot_plotter()\n",
    "\n",
    "g.triangle_plot(samples, filled=True)\n",
    "plt.savefig('hilc_wtsonce_gausslkl_freq_comparison.pdf')"
   ]
  },
  {
   "cell_type": "markdown",
   "id": "343e138a",
   "metadata": {},
   "source": [
    "### HILC (weights vary)"
   ]
  },
  {
   "cell_type": "code",
   "execution_count": null,
   "id": "8be896a4",
   "metadata": {},
   "outputs": [],
   "source": [
    "freq_strs = ['90_150', '90_120_150', '90_280', '280_353', '280_353_400' , '90_150_280', '90_150_220']\n",
    "\n",
    "samples = []\n",
    "for freq_str in freq_strs:\n",
    "    samples.append(MCSamples(samples=pickle.load(open(f'/Users/kristen/Documents/GitHub/NILC-Inference-Pipeline/plotting_notebooks/tests/outputs_{freq_str}/posteriors/a_array_HILC_{tsz_type}tsz_weightsvary_{Nsims//1000}ksims_tszamp150_gaussianlkl_SR.p', 'rb')).T, names = names, labels = labels, label=f'HILC (weights vary)\\n Gauss. Lkl. {freq_str.replace(\"_\", \", \")}'))\n",
    "\n",
    "g = plots.get_subplot_plotter()\n",
    "\n",
    "g.triangle_plot(samples, filled=True)\n",
    "plt.savefig('hilc_wtsvary_gausslkl_freq_comparison.pdf')"
   ]
  },
  {
   "cell_type": "markdown",
   "id": "70480ec0",
   "metadata": {},
   "source": [
    "### NILC"
   ]
  },
  {
   "cell_type": "code",
   "execution_count": null,
   "id": "d487d895",
   "metadata": {},
   "outputs": [],
   "source": [
    "freq_strs = ['90_150', '90_120_150', '90_280', '280_353', '280_353_400' , '90_150_280', '90_150_220']\n",
    "\n",
    "\n",
    "samples = []\n",
    "for freq_str in freq_strs:\n",
    "    samples.append(MCSamples(samples=pickle.load(open(f'/Users/kristen/Documents/GitHub/NILC-Inference-Pipeline/plotting_notebooks/tests/outputs_{freq_str}/posteriors/a_array_NILC_{tsz_type}tsz_{Nsims//1000}ksims_tszamp150_gaussianlkl_4scales.p', 'rb')).T, names = names, labels = labels, label=f'NILC gausslkl {freq_str}'))\n",
    "    \n",
    "g = plots.get_subplot_plotter()\n",
    "\n",
    "g.triangle_plot(samples, filled=True)\n",
    "plt.savefig('nilc_gausslkl_freq_comparison.pdf')\n",
    "\n"
   ]
  },
  {
   "cell_type": "markdown",
   "id": "2b7689ab",
   "metadata": {},
   "source": [
    "### Separate plot for each frequency combination"
   ]
  },
  {
   "cell_type": "code",
   "execution_count": null,
   "id": "442dd16f",
   "metadata": {},
   "outputs": [],
   "source": [
    "freq_strs = ['90_120', '90_150', '90_280', '90_120_150', '90_150_280', '90_150_220', '280_353', '280_353_400']\n",
    "\n",
    "for i, freq_str in enumerate(freq_strs):\n",
    "    samples = []\n",
    "    samples.append(MCSamples(samples=pickle.load(open(f'/Users/kristen/Documents/GitHub/NILC-Inference-Pipeline/plotting_notebooks/tests/outputs_{freq_str}/posteriors/a_array_multifrequency_{tsz_type}tsz_{Nsims//1000}ksims_tszamp150_gaussianlkl.p', 'rb')).T, names = names, labels = labels, label=f'Mult. PS {freq_str.replace(\"_\", \", \")}'))\n",
    "    samples.append(MCSamples(samples=pickle.load(open(f'/Users/kristen/Documents/GitHub/NILC-Inference-Pipeline/plotting_notebooks/tests/outputs_{freq_str}/posteriors/a_array_HILC_{tsz_type}tsz_weightsonce_{Nsims//1000}ksims_tszamp150_gaussianlkl_analytic.p', 'rb')).T, names = names, labels = labels, label=f'HILC (weights once) {freq_str.replace(\"_\", \", \")}'))\n",
    "    samples.append(MCSamples(samples=pickle.load(open(f'/Users/kristen/Documents/GitHub/NILC-Inference-Pipeline/plotting_notebooks/tests/outputs_{freq_str}/posteriors/a_array_HILC_{tsz_type}tsz_weightsvary_{Nsims//1000}ksims_tszamp150_gaussianlkl_SR.p', 'rb')).T, names = names, labels = labels, label=f'HILC (weights vary) {freq_str.replace(\"_\", \", \")}'))\n",
    "    samples.append(MCSamples(samples=pickle.load(open(f'/Users/kristen/Documents/GitHub/NILC-Inference-Pipeline/plotting_notebooks/tests/outputs_{freq_str}/posteriors/a_array_NILC_{tsz_type}tsz_{Nsims//1000}ksims_tszamp150_gaussianlkl_4scales.p', 'rb')).T, names = names, labels = labels, label=f'NILC {freq_str.replace(\"_\", \", \")}'))\n",
    "\n",
    "    g = plots.get_subplot_plotter()\n",
    "    g.triangle_plot(samples, filled=True)\n",
    "    plt.savefig(f'{freq_strs[i]}_gausslkl.pdf')"
   ]
  },
  {
   "cell_type": "markdown",
   "id": "2d204597",
   "metadata": {},
   "source": [
    "## Ellipse Areas"
   ]
  },
  {
   "cell_type": "markdown",
   "id": "cba88d96",
   "metadata": {},
   "source": [
    "### Multifrequency Ellipse Areas"
   ]
  },
  {
   "cell_type": "code",
   "execution_count": null,
   "id": "ed49aa9e",
   "metadata": {},
   "outputs": [],
   "source": [
    "freq_strs = ['90_120', '90_150', '90_280', '90_120_150', '90_150_280', '90_150_220', '280_353', '280_353_400']\n",
    "\n",
    "samples = []\n",
    "for i, freq_str in enumerate(freq_strs):\n",
    "    samples.append(MCSamples(samples=pickle.load(open(f'/Users/kristen/Documents/GitHub/NILC-Inference-Pipeline/plotting_notebooks/tests/outputs_{freq_str}/posteriors/a_array_multifrequency_{tsz_type}tsz_{Nsims//1000}ksims_tszamp150_gaussianlkl.p', 'rb')).T, names = names, labels = labels, label=f'Mult. PS {freq_str.replace(\"_\", \", \")}'))\n",
    "\n",
    "for s,sample in enumerate(samples):\n",
    "    print(f'1000*area for {freq_strs[s]}: {1000*ellipse_area(sample)}')\n"
   ]
  },
  {
   "cell_type": "markdown",
   "id": "d1af27d0",
   "metadata": {},
   "source": [
    "### HILC (weights once) Ellipse Areas"
   ]
  },
  {
   "cell_type": "code",
   "execution_count": null,
   "id": "45bb9385",
   "metadata": {},
   "outputs": [],
   "source": [
    "freq_strs = ['90_120', '90_150', '90_280', '90_120_150', '90_150_280', '90_150_220', '280_353', '280_353_400']\n",
    "\n",
    "samples = []\n",
    "for i, freq_str in enumerate(freq_strs):\n",
    "    samples.append(MCSamples(samples=pickle.load(open(f'/Users/kristen/Documents/GitHub/NILC-Inference-Pipeline/plotting_notebooks/tests/outputs_{freq_str}/posteriors/a_array_HILC_{tsz_type}tsz_weightsonce_{Nsims//1000}ksims_tszamp150_gaussianlkl_analytic.p', 'rb')).T, names = names, labels = labels, label=f'HILC (weights once) {freq_str.replace(\"_\", \", \")}'))\n",
    "\n",
    "for s,sample in enumerate(samples):\n",
    "    print(f'1000*area for {freq_strs[s]}: {1000*ellipse_area(sample)}')\n"
   ]
  },
  {
   "cell_type": "markdown",
   "id": "63461e26",
   "metadata": {},
   "source": [
    "### HILC (weights vary) Ellipse Areas"
   ]
  },
  {
   "cell_type": "code",
   "execution_count": null,
   "id": "926c89e6",
   "metadata": {},
   "outputs": [],
   "source": [
    "freq_strs = ['90_120', '90_150', '90_280', '90_120_150', '90_150_280', '90_150_220', '280_353', '280_353_400']\n",
    "\n",
    "samples = []\n",
    "for i, freq_str in enumerate(freq_strs):\n",
    "    samples.append(MCSamples(samples=pickle.load(open(f'/Users/kristen/Documents/GitHub/NILC-Inference-Pipeline/plotting_notebooks/tests/outputs_{freq_str}/posteriors/a_array_HILC_{tsz_type}tsz_weightsvary_{Nsims//1000}ksims_tszamp150_gaussianlkl_SR.p', 'rb')).T, names = names, labels = labels, label=f'HILC (weights vary) {freq_str.replace(\"_\", \", \")}'))\n",
    "\n",
    "for s,sample in enumerate(samples):\n",
    "    print(f'1000*area for {freq_strs[s]}: {1000*ellipse_area(sample)}')\n"
   ]
  },
  {
   "cell_type": "markdown",
   "id": "cacb2f81",
   "metadata": {},
   "source": [
    "### NILC Ellipse Areas"
   ]
  },
  {
   "cell_type": "code",
   "execution_count": null,
   "id": "906c7e75",
   "metadata": {},
   "outputs": [],
   "source": [
    "freq_strs = ['90_120', '90_150', '90_280', '90_120_150', '90_150_280', '90_150_220', '280_353', '280_353_400']\n",
    "\n",
    "samples = []\n",
    "for i, freq_str in enumerate(freq_strs):\n",
    "    samples.append(MCSamples(samples=pickle.load(open(f'/Users/kristen/Documents/GitHub/NILC-Inference-Pipeline/plotting_notebooks/tests/outputs_{freq_str}/posteriors/a_array_NILC_{tsz_type}tsz_{Nsims//1000}ksims_tszamp150_gaussianlkl_4scales.p', 'rb')).T, names = names, labels = labels, label=f'NILC {freq_str.replace(\"_\", \", \")}'))\n",
    "\n",
    "for s,sample in enumerate(samples):\n",
    "    print(f'1000*area for {freq_strs[s]}: {1000*ellipse_area(sample)}')\n"
   ]
  },
  {
   "cell_type": "markdown",
   "id": "c08e5e97",
   "metadata": {},
   "source": [
    "# Full Comparison LFI"
   ]
  },
  {
   "cell_type": "markdown",
   "id": "7368be67",
   "metadata": {},
   "source": [
    "## Posteriors"
   ]
  },
  {
   "cell_type": "code",
   "execution_count": null,
   "id": "0ee3a7c0",
   "metadata": {},
   "outputs": [],
   "source": [
    "Nsims = 30000\n",
    "Nsims_backup = 40000"
   ]
  },
  {
   "cell_type": "code",
   "execution_count": null,
   "id": "8a9f2d93",
   "metadata": {},
   "outputs": [],
   "source": [
    "freq_strs = ['90_150', '90_120', '90_120_150', '90_280', '90_150_220', '90_150_280', '280_353', '280_353_400']\n",
    "\n",
    "\n",
    "for freq_str in freq_strs:\n",
    "    samples = []\n",
    "    try:\n",
    "        samples.append(MCSamples(samples=pickle.load(open(f'/Users/kristen/Documents/GitHub/NILC-Inference-Pipeline/plotting_notebooks/tests/outputs_{freq_str}/posteriors/a_array_multifrequency_{tsz_type}tsz_{Nsims//1000}ksims_tszamp150_lfi.p', 'rb')).T, names = names, labels = labels, label=f'Mult. PS LFI {freq_str.replace(\"_\", \", \")}'))\n",
    "        samples.append(MCSamples(samples=pickle.load(open(f'/Users/kristen/Documents/GitHub/NILC-Inference-Pipeline/plotting_notebooks/tests/outputs_{freq_str}/posteriors/a_array_HILC_{tsz_type}tsz_weightsonce_{Nsims//1000}ksims_tszamp150_lfi.p', 'rb')).T, names = names, labels = labels, label=f'HILC (weights once) LFI {freq_str.replace(\"_\", \", \")}'))\n",
    "        samples.append(MCSamples(samples=pickle.load(open(f'/Users/kristen/Documents/GitHub/NILC-Inference-Pipeline/plotting_notebooks/tests/outputs_{freq_str}/posteriors/a_array_HILC_{tsz_type}tsz_weightsvary_{Nsims//1000}ksims_tszamp150_lfi.p', 'rb')).T, names = names, labels = labels, label=f'HILC (weights vary) LFI {freq_str.replace(\"_\", \", \")}'))\n",
    "        samples.append(MCSamples(samples=pickle.load(open(f'/Users/kristen/Documents/GitHub/NILC-Inference-Pipeline/plotting_notebooks/tests/outputs_{freq_str}/posteriors/a_array_NILC_{tsz_type}tsz_{Nsims//1000}ksims_tszamp150_lfi_4scales.p', 'rb')).T, names = names, labels = labels, label=f'NILC LFI {freq_str.replace(\"_\", \", \")}'))\n",
    "    except FileNotFoundError:\n",
    "        samples.append(MCSamples(samples=pickle.load(open(f'/Users/kristen/Documents/GitHub/NILC-Inference-Pipeline/plotting_notebooks/tests/outputs_{freq_str}/posteriors/a_array_multifrequency_{tsz_type}tsz_{Nsims_backup//1000}ksims_tszamp150_lfi.p', 'rb')).T, names = names, labels = labels, label=f'Mult. PS LFI {freq_str.replace(\"_\", \", \")}'))\n",
    "        samples.append(MCSamples(samples=pickle.load(open(f'/Users/kristen/Documents/GitHub/NILC-Inference-Pipeline/plotting_notebooks/tests/outputs_{freq_str}/posteriors/a_array_HILC_{tsz_type}tsz_weightsonce_{Nsims_backup//1000}ksims_tszamp150_lfi.p', 'rb')).T, names = names, labels = labels, label=f'HILC (weights once) LFI {freq_str.replace(\"_\", \", \")}'))\n",
    "        samples.append(MCSamples(samples=pickle.load(open(f'/Users/kristen/Documents/GitHub/NILC-Inference-Pipeline/plotting_notebooks/tests/outputs_{freq_str}/posteriors/a_array_HILC_{tsz_type}tsz_weightsvary_{Nsims_backup//1000}ksims_tszamp150_lfi.p', 'rb')).T, names = names, labels = labels, label=f'HILC (weights vary) LFI {freq_str.replace(\"_\", \", \")}'))\n",
    "        samples.append(MCSamples(samples=pickle.load(open(f'/Users/kristen/Documents/GitHub/NILC-Inference-Pipeline/plotting_notebooks/tests/outputs_{freq_str}/posteriors/a_array_NILC_{tsz_type}tsz_{Nsims_backup//1000}ksims_tszamp150_lfi_4scales.p', 'rb')).T, names = names, labels = labels, label=f'NILC LFI {freq_str.replace(\"_\", \", \")}'))\n",
    "    \n",
    "    \n",
    "    g = plots.get_subplot_plotter()\n",
    "    g.triangle_plot(samples, filled=True)\n",
    "    plt.savefig(f'{freq_str}.pdf')"
   ]
  },
  {
   "cell_type": "markdown",
   "id": "bdffe7b0",
   "metadata": {},
   "source": [
    "### Multifrequency"
   ]
  },
  {
   "cell_type": "code",
   "execution_count": null,
   "id": "a1ab8b3c",
   "metadata": {},
   "outputs": [],
   "source": [
    "freq_strs = ['90_150', '90_120_150', '90_280', '90_150_220', '90_150_280', '280_353', '280_353_400']\n",
    "\n",
    "samples = []\n",
    "for freq_str in freq_strs:\n",
    "    try:\n",
    "        samples.append(MCSamples(samples=pickle.load(open(f'/Users/kristen/Documents/GitHub/NILC-Inference-Pipeline/plotting_notebooks/tests/outputs_{freq_str}/posteriors/a_array_multifrequency_{tsz_type}tsz_{Nsims//1000}ksims_tszamp150_lfi.p', 'rb')).T, names = names, labels = labels, label=f'Mult. PS LFI {freq_str}'))\n",
    "    except FileNotFoundError:\n",
    "        samples.append(MCSamples(samples=pickle.load(open(f'/Users/kristen/Documents/GitHub/NILC-Inference-Pipeline/plotting_notebooks/tests/outputs_{freq_str}/posteriors/a_array_multifrequency_{tsz_type}tsz_{Nsims_backup//1000}ksims_tszamp150_lfi.p', 'rb')).T, names = names, labels = labels, label=f'Mult. PS LFI {freq_str}'))   \n",
    "    \n",
    "g = plots.get_subplot_plotter()\n",
    "g.triangle_plot(samples, filled=True)\n",
    "plt.savefig('mult_lfi_freq_comparison.pdf')\n"
   ]
  },
  {
   "cell_type": "markdown",
   "id": "d55787b0",
   "metadata": {},
   "source": [
    "### HILC (weights once)"
   ]
  },
  {
   "cell_type": "code",
   "execution_count": null,
   "id": "e9ce0ca0",
   "metadata": {},
   "outputs": [],
   "source": [
    "freq_strs = ['90_150', '90_120_150', '90_280', '90_150_220', '90_150_280', '280_353', '280_353_400']\n",
    "\n",
    "samples = []\n",
    "for freq_str in freq_strs:\n",
    "    try:\n",
    "        samples.append(MCSamples(samples=pickle.load(open(f'/Users/kristen/Documents/GitHub/NILC-Inference-Pipeline/plotting_notebooks/tests/outputs_{freq_str}/posteriors/a_array_HILC_{tsz_type}tsz_weightsonce_{Nsims//1000}ksims_tszamp150_lfi.p', 'rb')).T, names = names, labels = labels, label=f'HILC (weights once) LFI {freq_str}'))\n",
    "    except FileNotFoundError:\n",
    "        samples.append(MCSamples(samples=pickle.load(open(f'/Users/kristen/Documents/GitHub/NILC-Inference-Pipeline/plotting_notebooks/tests/outputs_{freq_str}/posteriors/a_array_HILC_{tsz_type}tsz_weightsonce_{Nsims_backup//1000}ksims_tszamp150_lfi.p', 'rb')).T, names = names, labels = labels, label=f'HILC (weights once) LFI {freq_str}'))\n",
    "    \n",
    "g = plots.get_subplot_plotter()\n",
    "g.triangle_plot(samples, filled=True)\n",
    "plt.savefig('hilc_wtsonce_lfi_freq_comparison.pdf')"
   ]
  },
  {
   "cell_type": "markdown",
   "id": "56cd8398",
   "metadata": {},
   "source": [
    "### HILC (weights vary)"
   ]
  },
  {
   "cell_type": "code",
   "execution_count": null,
   "id": "ffb16f82",
   "metadata": {},
   "outputs": [],
   "source": [
    "freq_strs = ['90_150', '90_120_150', '90_280', '90_150_220', '90_150_280', '280_353', '280_353_400']\n",
    "\n",
    "samples = []\n",
    "for freq_str in freq_strs:\n",
    "    try:\n",
    "        samples.append(MCSamples(samples=pickle.load(open(f'/Users/kristen/Documents/GitHub/NILC-Inference-Pipeline/plotting_notebooks/tests/outputs_{freq_str}/posteriors/a_array_HILC_{tsz_type}tsz_weightsvary_{Nsims//1000}ksims_tszamp150_lfi.p', 'rb')).T, names = names, labels = labels, label=f'HILC (weights vary) LFI {freq_str}'))\n",
    "    except FileNotFoundError:\n",
    "        samples.append(MCSamples(samples=pickle.load(open(f'/Users/kristen/Documents/GitHub/NILC-Inference-Pipeline/plotting_notebooks/tests/outputs_{freq_str}/posteriors/a_array_HILC_{tsz_type}tsz_weightsvary_{Nsims_backup//1000}ksims_tszamp150_lfi.p', 'rb')).T, names = names, labels = labels, label=f'HILC (weights vary) LFI {freq_str}'))  \n",
    "    \n",
    "g = plots.get_subplot_plotter()\n",
    "g.triangle_plot(samples, filled=True)\n",
    "plt.savefig('hilc_wtsvary_lfi_freq_comparison.pdf')"
   ]
  },
  {
   "cell_type": "markdown",
   "id": "6ae35ee1",
   "metadata": {},
   "source": [
    "### NILC"
   ]
  },
  {
   "cell_type": "code",
   "execution_count": null,
   "id": "d8c3899a",
   "metadata": {},
   "outputs": [],
   "source": [
    "freq_strs = ['90_150', '90_120_150', '90_280', '280_353', '280_353_400' , '90_150_280', '90_150_220']\n",
    "samples = []\n",
    "for freq_str in freq_strs:\n",
    "    try:\n",
    "        samples.append(MCSamples(samples=pickle.load(open(f'/Users/kristen/Documents/GitHub/NILC-Inference-Pipeline/plotting_notebooks/tests/outputs_{freq_str}/posteriors/a_array_NILC_{tsz_type}tsz_{Nsims//1000}ksims_tszamp150_lfi_4scales.p', 'rb')).T, names = names, labels = labels, label=f'NILC LFI {freq_str.replace(\"_\", \", \")}'))\n",
    "    except FileNotFoundError:\n",
    "        samples.append(MCSamples(samples=pickle.load(open(f'/Users/kristen/Documents/GitHub/NILC-Inference-Pipeline/plotting_notebooks/tests/outputs_{freq_str}/posteriors/a_array_NILC_{tsz_type}tsz_{Nsims_backup//1000}ksims_tszamp150_lfi_4scales.p', 'rb')).T, names = names, labels = labels, label=f'NILC LFI {freq_str.replace(\"_\", \", \")}'))  \n",
    "    \n",
    "g = plots.get_subplot_plotter()\n",
    "g.triangle_plot(samples, filled=True)\n",
    "plt.savefig('nilc_lfi_freq_comparison.pdf')"
   ]
  },
  {
   "cell_type": "markdown",
   "id": "1bbf4f4d",
   "metadata": {},
   "source": [
    "## Ellipse Areas"
   ]
  },
  {
   "cell_type": "markdown",
   "id": "c12ac78b",
   "metadata": {},
   "source": [
    "### Multifrequency Ellipse Areas"
   ]
  },
  {
   "cell_type": "code",
   "execution_count": null,
   "id": "e93547e3",
   "metadata": {},
   "outputs": [],
   "source": [
    "freq_strs = ['90_120', '90_150', '90_280', '90_120_150', '90_150_280', '90_150_220', '280_353', '280_353_400']\n",
    "samples = []\n",
    "for freq_str in freq_strs:\n",
    "    try:\n",
    "        samples.append(MCSamples(samples=pickle.load(open(f'/Users/kristen/Documents/GitHub/NILC-Inference-Pipeline/plotting_notebooks/tests/outputs_{freq_str}/posteriors/a_array_multifrequency_{tsz_type}tsz_{Nsims//1000}ksims_tszamp150_lfi.p', 'rb')).T, names = names, labels = labels, label=f'Mult. PS LFI {freq_str}'))\n",
    "    except FileNotFoundError:\n",
    "        samples.append(MCSamples(samples=pickle.load(open(f'/Users/kristen/Documents/GitHub/NILC-Inference-Pipeline/plotting_notebooks/tests/outputs_{freq_str}/posteriors/a_array_multifrequency_{tsz_type}tsz_{Nsims_backup//1000}ksims_tszamp150_lfi.p', 'rb')).T, names = names, labels = labels, label=f'Mult. PS LFI {freq_str}'))\n",
    "\n",
    "for s,sample in enumerate(samples):\n",
    "    print(f'1000*area for {freq_strs[s]}: {1000*ellipse_area(sample)}')"
   ]
  },
  {
   "cell_type": "markdown",
   "id": "a1626afa",
   "metadata": {},
   "source": [
    "### HILC (weights once) Ellipse Areas"
   ]
  },
  {
   "cell_type": "code",
   "execution_count": null,
   "id": "f1126698",
   "metadata": {},
   "outputs": [],
   "source": [
    "freq_strs = ['90_120', '90_150', '90_280', '90_120_150', '90_150_280', '90_150_220', '280_353', '280_353_400']\n",
    "samples = []\n",
    "for freq_str in freq_strs:\n",
    "    try:\n",
    "        samples.append(MCSamples(samples=pickle.load(open(f'/Users/kristen/Documents/GitHub/NILC-Inference-Pipeline/plotting_notebooks/tests/outputs_{freq_str}/posteriors/a_array_HILC_{tsz_type}tsz_weightsonce_{Nsims//1000}ksims_tszamp150_lfi.p', 'rb')).T, names = names, labels = labels, label=f'HILC (weights once) LFI {freq_str}'))\n",
    "    except FileNotFoundError:\n",
    "        samples.append(MCSamples(samples=pickle.load(open(f'/Users/kristen/Documents/GitHub/NILC-Inference-Pipeline/plotting_notebooks/tests/outputs_{freq_str}/posteriors/a_array_HILC_{tsz_type}tsz_weightsonce_{Nsims_backup//1000}ksims_tszamp150_lfi.p', 'rb')).T, names = names, labels = labels, label=f'HILC (weights once) LFI {freq_str}'))\n",
    "\n",
    "for s,sample in enumerate(samples):\n",
    "    print(f'1000*area for {freq_strs[s]}: {1000*ellipse_area(sample)}')"
   ]
  },
  {
   "cell_type": "markdown",
   "id": "4fcfc834",
   "metadata": {},
   "source": [
    "### HILC (weights vary) Ellipse Areas"
   ]
  },
  {
   "cell_type": "code",
   "execution_count": null,
   "id": "2925d706",
   "metadata": {},
   "outputs": [],
   "source": [
    "freq_strs = ['90_120', '90_150', '90_280', '90_120_150', '90_150_280', '90_150_220', '280_353', '280_353_400']\n",
    "samples = []\n",
    "for freq_str in freq_strs:\n",
    "    try:\n",
    "        samples.append(MCSamples(samples=pickle.load(open(f'/Users/kristen/Documents/GitHub/NILC-Inference-Pipeline/plotting_notebooks/tests/outputs_{freq_str}/posteriors/a_array_HILC_{tsz_type}tsz_weightsvary_{Nsims//1000}ksims_tszamp150_lfi.p', 'rb')).T, names = names, labels = labels, label=f'HILC (weights vary) LFI {freq_str}'))\n",
    "    except FileNotFoundError:\n",
    "        samples.append(MCSamples(samples=pickle.load(open(f'/Users/kristen/Documents/GitHub/NILC-Inference-Pipeline/plotting_notebooks/tests/outputs_{freq_str}/posteriors/a_array_HILC_{tsz_type}tsz_weightsvary_{Nsims_backup//1000}ksims_tszamp150_lfi.p', 'rb')).T, names = names, labels = labels, label=f'HILC (weights vary) LFI {freq_str}'))\n",
    "\n",
    "for s,sample in enumerate(samples):\n",
    "    print(f'1000*area for {freq_strs[s]}: {1000*ellipse_area(sample)}')"
   ]
  },
  {
   "cell_type": "markdown",
   "id": "eb85b870",
   "metadata": {},
   "source": [
    "### NILC Ellipse Areas"
   ]
  },
  {
   "cell_type": "code",
   "execution_count": null,
   "id": "c2336c88",
   "metadata": {},
   "outputs": [],
   "source": [
    "freq_strs = ['90_120', '90_150', '90_280', '90_120_150', '90_150_280', '90_150_220', '280_353', '280_353_400']\n",
    "samples = []\n",
    "for freq_str in freq_strs:\n",
    "    try:\n",
    "        samples.append(MCSamples(samples=pickle.load(open(f'/Users/kristen/Documents/GitHub/NILC-Inference-Pipeline/plotting_notebooks/tests/outputs_{freq_str}/posteriors/a_array_NILC_{tsz_type}tsz_{Nsims//1000}ksims_tszamp150_lfi_4scales.p', 'rb')).T, names = names, labels = labels, label=f'NILC LFI {freq_str}'))\n",
    "    except FileNotFoundError:\n",
    "        samples.append(MCSamples(samples=pickle.load(open(f'/Users/kristen/Documents/GitHub/NILC-Inference-Pipeline/plotting_notebooks/tests/outputs_{freq_str}/posteriors/a_array_NILC_{tsz_type}tsz_{Nsims_backup//1000}ksims_tszamp150_lfi_4scales.p', 'rb')).T, names = names, labels = labels, label=f'NILC LFI {freq_str}'))\n",
    "\n",
    "for s,sample in enumerate(samples):\n",
    "    print(f'1000*area for {freq_strs[s]}: {1000*ellipse_area(sample)}')"
   ]
  },
  {
   "cell_type": "code",
   "execution_count": null,
   "id": "1b42aa7e",
   "metadata": {},
   "outputs": [],
   "source": []
  }
 ],
 "metadata": {
  "kernelspec": {
   "display_name": "Python 3 (ipykernel)",
   "language": "python",
   "name": "python3"
  },
  "language_info": {
   "codemirror_mode": {
    "name": "ipython",
    "version": 3
   },
   "file_extension": ".py",
   "mimetype": "text/x-python",
   "name": "python",
   "nbconvert_exporter": "python",
   "pygments_lexer": "ipython3",
   "version": "3.9.18"
  }
 },
 "nbformat": 4,
 "nbformat_minor": 5
}
