{
 "cells": [
  {
   "cell_type": "markdown",
   "id": "11403ff0",
   "metadata": {},
   "source": [
    "## This notebook contains code for computing and plotting frequency maps, weight maps, and ILC maps (currently assumes the sky components are only CMB and tSZ)."
   ]
  },
  {
   "cell_type": "code",
   "execution_count": null,
   "id": "f00a272a",
   "metadata": {},
   "outputs": [],
   "source": [
    "import numpy as np\n",
    "import matplotlib.pyplot as plt\n",
    "from scipy import stats\n",
    "import healpy as hp\n",
    "import tempfile\n",
    "import shutil\n",
    "import os\n",
    "import sys\n",
    "sys.path.append('../../shared')\n",
    "sys.path.append('../../needlet_ILC_pipeline')\n",
    "from generate_maps import generate_freq_maps\n",
    "from input import Info\n",
    "from utils import get_naming_str, build_NILC_maps, spectral_response, GaussianNeedlets\n",
    "from pyilc_interface import setup_pyilc, load_wt_maps, setup_pyilc_hilc"
   ]
  },
  {
   "cell_type": "code",
   "execution_count": null,
   "id": "e53ca720",
   "metadata": {},
   "outputs": [],
   "source": [
    "font = {'size'   : 20, 'family':'STIXGeneral'}\n",
    "plt.rcParams.update({\n",
    "     'text.usetex': True,\n",
    "     'font.family': 'serif',\n",
    "     'font.sans-serif': ['Computer Modern'],\n",
    "     'font.size':20})\n",
    "plt.rc_context({'axes.autolimit_mode': 'round_numbers'})"
   ]
  },
  {
   "cell_type": "markdown",
   "id": "e05cf83b",
   "metadata": {},
   "source": [
    "# Read yaml, set up Info object"
   ]
  },
  {
   "cell_type": "code",
   "execution_count": null,
   "id": "512cd832",
   "metadata": {},
   "outputs": [],
   "source": [
    "sim = 0\n",
    "yaml_file = '../../needlet_ILC_pipeline/example_yaml_files/laptop.yaml'\n",
    "pipeline = 'NILC'\n",
    "save = True\n",
    "\n",
    "# read in the input file and set up relevant info object\n",
    "inp = Info(yaml_file)\n",
    "inp.ell_sum_max = inp.ellmax\n",
    "\n",
    "ells = np.arange(inp.ellmax+1)\n",
    "res = stats.binned_statistic(ells[2:], ells[2:], statistic='mean', bins=inp.Nbins)\n",
    "mean_ells = np.round((res[1][:-1]+res[1][1:])/2)\n",
    "\n",
    "naming_str = get_naming_str(inp, pipeline)\n",
    "\n",
    "env = os.environ.copy()\n",
    "split = 1"
   ]
  },
  {
   "cell_type": "markdown",
   "id": "bad2aa46",
   "metadata": {},
   "source": [
    "# Plot Needlet Filters"
   ]
  },
  {
   "cell_type": "code",
   "execution_count": null,
   "id": "e7981b1a",
   "metadata": {},
   "outputs": [],
   "source": [
    "inp.GN_FWHM_arcmin = [300., 120., 60.] \n",
    "# inp.GN_FWHM_arcmin = [600., 300., 120., 60., 30., 15.] \n",
    "inp.Nscales = len(inp.GN_FWHM_arcmin)+1\n",
    "inp.Nscales = 4\n",
    "# inp.GN_FWHM_arcmin = [300., 120., 60.] \n",
    "ell, filters = GaussianNeedlets(inp, taper_width=0)\n",
    "for n in range(inp.Nscales):\n",
    "    plt.plot(ells, filters[n], color='k')\n",
    "plt.grid()\n",
    "plt.xlim(0,inp.ellmax)\n",
    "plt.xlabel(r'$\\ell$')\n",
    "plt.ylabel(r'$h_\\ell^{(n)}$')\n",
    "if save:\n",
    "    plt.savefig('needlet_filters.pdf', bbox_inches='tight')"
   ]
  },
  {
   "cell_type": "markdown",
   "id": "278e7d9f",
   "metadata": {},
   "source": [
    "# Generate Maps, HILC Maps, and NILC Maps"
   ]
  },
  {
   "cell_type": "code",
   "execution_count": null,
   "id": "1f11b87f",
   "metadata": {},
   "outputs": [],
   "source": [
    "map_tmpdir = tempfile.mkdtemp(dir='.')\n",
    "comp_spectra, comp_maps, noise_maps = generate_freq_maps(inp, sim=sim, save=True, scaling=None, pars=None, include_noise=True, map_tmpdir=map_tmpdir)\n",
    "cmb_cl, tsz_cl = comp_spectra\n",
    "cmb_map, tsz_map = comp_maps\n",
    "\n",
    "Nsplits = 2\n",
    "N_preserved_comps = 2\n",
    "all_wt_maps = np.zeros((Nsplits, N_preserved_comps, inp.Nscales, len(inp.freqs), 12*inp.nside**2))\n",
    "for split in [1,2]:\n",
    "    \n",
    "    # use for harmonic ilc\n",
    "    pyilc_tmpdir_hilc = setup_pyilc_hilc(sim, split, inp, env, map_tmpdir, suppress_printing=False, pars=None) #set suppress_printing=False to debug pyilc runs\n",
    "    if split == 1:\n",
    "        CMB_HILC_map_s0 = 1.e-6*hp.read_map(f'{pyilc_tmpdir_hilc}/sim{sim}_split1needletILCmap_component_CMB.fits')\n",
    "        tSZ_HILC_map_s0 = hp.read_map(f'{pyilc_tmpdir_hilc}/sim{sim}_split1needletILCmap_component_tSZ.fits')\n",
    "    elif split == 2:\n",
    "        CMB_HILC_map_s1 = 1.e-6*hp.read_map(f'{pyilc_tmpdir_hilc}/sim{sim}_split2needletILCmap_component_CMB.fits')\n",
    "        tSZ_HILC_map_s1 = hp.read_map(f'{pyilc_tmpdir_hilc}/sim{sim}_split2needletILCmap_component_tSZ.fits')\n",
    "    \n",
    "    # use for needlet ilc\n",
    "    pyilc_tmpdir_nilc = setup_pyilc(sim, split, inp, env, map_tmpdir, suppress_printing=False, pars=None) #set suppress_printing=False to debug pyilc runs\n",
    "    CMB_wt_maps, tSZ_wt_maps = load_wt_maps(inp, sim, split, pyilc_tmpdir_nilc, pars=None) #load weight maps\n",
    "    all_wt_maps[split-1] = np.array([CMB_wt_maps, tSZ_wt_maps])\n",
    "    if split == 1:\n",
    "        CMB_NILC_map_s0 = 1.e-6*hp.read_map(f'{pyilc_tmpdir_nilc}/sim{sim}_split1needletILCmap_component_CMB.fits')\n",
    "        tSZ_NILC_map_s0 = hp.read_map(f'{pyilc_tmpdir_nilc}/sim{sim}_split1needletILCmap_component_tSZ.fits')\n",
    "    elif split == 2:\n",
    "        CMB_NILC_map_s1 = 1.e-6*hp.read_map(f'{pyilc_tmpdir_nilc}/sim{sim}_split2needletILCmap_component_CMB.fits')\n",
    "        tSZ_NILC_map_s1 = hp.read_map(f'{pyilc_tmpdir_nilc}/sim{sim}_split2needletILCmap_component_tSZ.fits')\n",
    "    \n",
    "    shutil.rmtree(pyilc_tmpdir_hilc)\n",
    "    shutil.rmtree(pyilc_tmpdir_nilc)\n",
    "shutil.rmtree(map_tmpdir)"
   ]
  },
  {
   "cell_type": "markdown",
   "id": "323ef110",
   "metadata": {},
   "source": [
    "# Display NILC Weight Maps"
   ]
  },
  {
   "cell_type": "code",
   "execution_count": null,
   "id": "38be4c68",
   "metadata": {},
   "outputs": [],
   "source": [
    "plt.rcParams.update({'font.size':11})"
   ]
  },
  {
   "cell_type": "markdown",
   "id": "3c0b1b36",
   "metadata": {},
   "source": [
    "## Weight Maps for CMB-preserved NILC Map"
   ]
  },
  {
   "cell_type": "code",
   "execution_count": null,
   "id": "ad802b9b",
   "metadata": {},
   "outputs": [],
   "source": [
    "fig, axs = plt.subplots(inp.Nscales, len(inp.freqs), figsize=(8,6))\n",
    "axs = axs.flatten()\n",
    "\n",
    "ax = 0\n",
    "for n in range(inp.Nscales):\n",
    "    for i in range(len(inp.freqs)):\n",
    "        plt.axes(axs[ax])\n",
    "        hp.mollview(all_wt_maps[0][0][n][i], hold=True, title='', format='%.03g')\n",
    "        if i == 0:\n",
    "            plt.text(0.85, 0.5, f'Scale {n}\\n{int(inp.freqs[i])} GHz', transform=axs[ax].transAxes,size=11)\n",
    "        elif i == 1:\n",
    "            plt.text(-0.04, 0.5, f'Scale {n}\\n{int(inp.freqs[i])} GHz', transform=axs[ax].transAxes,size=11)\n",
    "        ax += 1\n",
    "if save:\n",
    "    plt.savefig('cmb_wt_maps.pdf', bbox_inches='tight')"
   ]
  },
  {
   "cell_type": "markdown",
   "id": "72592a0e",
   "metadata": {},
   "source": [
    "## Weight Maps for tSZ-preserved NILC Map"
   ]
  },
  {
   "cell_type": "code",
   "execution_count": null,
   "id": "23ac7a7b",
   "metadata": {},
   "outputs": [],
   "source": [
    "fig, axs = plt.subplots(inp.Nscales, len(inp.freqs), figsize=(8,6))\n",
    "axs = axs.flatten()\n",
    "\n",
    "ax = 0\n",
    "for n in range(inp.Nscales):\n",
    "    for i in range(len(inp.freqs)):\n",
    "        plt.axes(axs[ax])\n",
    "        hp.mollview(all_wt_maps[0][1][n][i], hold=True, title='', format='%.03g', unit='[1/K]')\n",
    "        if i == 0:\n",
    "            plt.text(0.85, 0.5, f'Scale {n}\\n{int(inp.freqs[i])} GHz', transform=axs[ax].transAxes,size=11)\n",
    "        elif i == 1:\n",
    "            plt.text(-0.04, 0.5, f'Scale {n}\\n{int(inp.freqs[i])} GHz', transform=axs[ax].transAxes,size=11)\n",
    "        ax += 1        \n",
    "if save:\n",
    "    plt.savefig('tsz_wt_maps.pdf', bbox_inches='tight')"
   ]
  },
  {
   "cell_type": "markdown",
   "id": "0f946b70",
   "metadata": {},
   "source": [
    "# Compare input maps to HILC and NILC maps"
   ]
  },
  {
   "cell_type": "code",
   "execution_count": null,
   "id": "dfd3b28f",
   "metadata": {},
   "outputs": [],
   "source": [
    "g90, g150 = spectral_response([90, 150], 'tsz')\n",
    "map_0_s0 = cmb_map + g90*tsz_map + noise_maps[0,0]\n",
    "map_1_s0 = cmb_map + g150*tsz_map + noise_maps[1,0]\n",
    "map_0_s1 = cmb_map + g90*tsz_map + noise_maps[0,1]\n",
    "map_1_s1 = cmb_map + g150*tsz_map + noise_maps[1,1]\n",
    "CMB_NILC_map_s0_built, tSZ_NILC_map_s0_built = build_NILC_maps(inp, sim, filters, all_wt_maps[0], freq_maps=[map_0_s0, map_1_s0])\n",
    "CMB_NILC_map_s1_built, tSZ_NILC_map_s1_built = build_NILC_maps(inp, sim, filters, all_wt_maps[1], freq_maps=[map_0_s1, map_1_s1])\n",
    "\n"
   ]
  },
  {
   "cell_type": "code",
   "execution_count": null,
   "id": "0c83a663",
   "metadata": {},
   "outputs": [],
   "source": [
    "fig, axs = plt.subplots(2,3, figsize=(12,6))\n",
    "axs = axs.flatten()\n",
    "margins=None #(1,1,1,1)\n",
    "\n",
    "plt.rcParams.update({\n",
    "     'text.usetex': True,\n",
    "     'font.family': 'serif',\n",
    "     'font.sans-serif': ['Computer Modern'],\n",
    "     'font.size':14})\n",
    "\n",
    "for n, ax in enumerate(axs):\n",
    "    plt.axes(ax)\n",
    "    cmb_max = 0.0005\n",
    "    if n==0:\n",
    "        hp.mollview(cmb_map, fig=1, hold=True, title='Input CMB', format='%.03g', min=-cmb_max, max=cmb_max)\n",
    "    elif n==1:\n",
    "        hp.mollview(CMB_NILC_map_s0, fig=2, hold=True, title='CMB NILC', format='%.03g', min=-cmb_max, max=cmb_max)\n",
    "    elif n==2:\n",
    "        hp.mollview(CMB_HILC_map_s0, fig=2, hold=True, title='CMB HILC', format='%.03g', min=-cmb_max, max=cmb_max)\n",
    "    elif n==3:\n",
    "        hp.mollview(tsz_map, fig=2, hold=True, title=r'Input Amplified Compton-$y$', format='%.03g', min=0, max=0.0005)\n",
    "    elif n==4:\n",
    "        hp.mollview(tSZ_NILC_map_s0, fig=2, hold=True, title=r'Amplified Compton-$y$ NILC', format='%.03g', min=0, max=0.0005)\n",
    "    else:\n",
    "        hp.mollview(tSZ_HILC_map_s0, fig=2, hold=True, title=r'Amplified Compton-$y$ HILC', format='%.03g', min=0, max=0.0005)\n",
    "    if n <= 2:\n",
    "        plt.text(0.47, -0.02, r'$[\\mathrm{K}]$', transform=ax.transAxes,size=14)\n",
    "\n",
    "if save:\n",
    "    plt.savefig('recon_maps.pdf', bbox_inches='tight')\n",
    "\n",
    "plt.rcParams.update({\n",
    "     'text.usetex': True,\n",
    "     'font.family': 'serif',\n",
    "     'font.sans-serif': ['Computer Modern'],\n",
    "     'font.size':20})\n",
    "\n"
   ]
  },
  {
   "cell_type": "markdown",
   "id": "75da65bb",
   "metadata": {},
   "source": [
    "# Compare Power Spectra"
   ]
  },
  {
   "cell_type": "code",
   "execution_count": null,
   "id": "9f17fb86",
   "metadata": {},
   "outputs": [],
   "source": [
    "to_dl = ells*(ells+1)/2/np.pi\n",
    "plt.plot(ells[2:], (to_dl*hp.anafast(cmb_map, lmax=inp.ellmax))[2:], label='Input CMB')\n",
    "plt.plot(ells[2:], (to_dl*hp.anafast(CMB_NILC_map_s0, CMB_NILC_map_s1, lmax=inp.ellmax))[2:], label='CMB NILC')\n",
    "plt.plot(ells[2:], (to_dl*hp.anafast(CMB_HILC_map_s0, CMB_HILC_map_s1, lmax=inp.ellmax))[2:], label='CMB HILC')\n",
    "plt.grid()\n",
    "plt.legend(fontsize=12)\n",
    "plt.xlim(0, inp.ellmax)\n",
    "plt.xlabel(r'$\\ell$')\n",
    "plt.ylabel(r'$\\ell(\\ell+1)C_\\ell/(2\\pi)$ [$\\mathrm{K}^2$]')"
   ]
  },
  {
   "cell_type": "code",
   "execution_count": null,
   "id": "70ca0869",
   "metadata": {},
   "outputs": [],
   "source": [
    "to_dl = ells*(ells+1)/2/np.pi\n",
    "plt.plot(ells, to_dl*hp.anafast(tsz_map, lmax=inp.ellmax), label='Input Amplified Compton-y')\n",
    "plt.plot(ells, to_dl*hp.anafast(tSZ_NILC_map_s0, tSZ_NILC_map_s1, lmax=inp.ellmax), label='Amplified Compton-y NILC')\n",
    "plt.plot(ells, to_dl*hp.anafast(tSZ_HILC_map_s0, tSZ_HILC_map_s1, lmax=inp.ellmax), label='Amplified Compton-y HILC')\n",
    "plt.grid()\n",
    "plt.legend(fontsize=12)\n",
    "plt.xlim(0, inp.ellmax)\n",
    "plt.xlabel(r'$\\ell$')\n",
    "plt.ylabel(r'$\\ell(\\ell+1)C_\\ell/(2\\pi)$')"
   ]
  },
  {
   "cell_type": "code",
   "execution_count": null,
   "id": "1b9721e7",
   "metadata": {},
   "outputs": [],
   "source": [
    "sys.path.append('../../harmonic_ILC_pipeline')\n",
    "inp.delta_l = 10\n",
    "inp.compute_weights_once = False\n",
    "inp.Nbins = 249\n",
    "inp.omit_central_ell = True\n",
    "from hilc_analytic import get_freq_power_spec, get_data_vecs\n",
    "Clij_new = get_freq_power_spec(inp, 0)\n",
    "Clpq_new = get_data_vecs(inp, Clij_new)"
   ]
  },
  {
   "cell_type": "code",
   "execution_count": null,
   "id": "cce1a268",
   "metadata": {},
   "outputs": [],
   "source": [
    "to_dl = ells*(ells+1)/2/np.pi\n",
    "plt.plot(ells[2:], (to_dl*hp.anafast(CMB_HILC_map_s0, CMB_HILC_map_s1, lmax=inp.ellmax))[2:], label='CMB HILC (from map)', color='blue')\n",
    "plt.plot(ells[2:], (to_dl[2:]*Clpq_new[0,0,0]), label='CMB HILC (analytic)', linestyle='dotted', color='lightblue')\n",
    "plt.plot(ells[2:], (to_dl*hp.anafast(tSZ_HILC_map_s0, tSZ_HILC_map_s1, lmax=inp.ellmax))[2:], label=r'Amplified Compton-$y$ HILC (from map)', color='green')\n",
    "plt.plot(ells[2:], (to_dl[2:]*Clpq_new[1,1,0]), label=r'Amplified Compton-$y$ HILC (analytic)', linestyle='dotted', color='lightgreen')\n",
    "plt.grid()\n",
    "plt.legend(fontsize=12)\n",
    "plt.xlim(0, inp.ellmax)\n",
    "plt.xlabel(r'$\\ell$')\n",
    "plt.ylabel(r'$\\ell(\\ell+1)C_\\ell/(2\\pi)$')\n",
    "if save:\n",
    "    plt.savefig('hilc_map_vs_analytic.pdf', bbox_inches='tight')\n",
    "\n"
   ]
  },
  {
   "cell_type": "code",
   "execution_count": null,
   "id": "b98fd0a6",
   "metadata": {},
   "outputs": [],
   "source": []
  }
 ],
 "metadata": {
  "kernelspec": {
   "display_name": "Python 3 (ipykernel)",
   "language": "python",
   "name": "python3"
  },
  "language_info": {
   "codemirror_mode": {
    "name": "ipython",
    "version": 3
   },
   "file_extension": ".py",
   "mimetype": "text/x-python",
   "name": "python",
   "nbconvert_exporter": "python",
   "pygments_lexer": "ipython3",
   "version": "3.9.18"
  }
 },
 "nbformat": 4,
 "nbformat_minor": 5
}
