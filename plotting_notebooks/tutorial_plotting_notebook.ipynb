{
 "cells": [
  {
   "cell_type": "markdown",
   "id": "193fc765",
   "metadata": {},
   "source": [
    "## This is a tutorial notebook for producing plots after running any of the pipelines in the repository. First, run one of the pipelines using one of the provided yaml files (or a similar one). Then run this notebook to make plots and interpret the outputs. You only need to modify the first code cell in the notebook."
   ]
  },
  {
   "cell_type": "code",
   "execution_count": null,
   "id": "d47f9a5b",
   "metadata": {},
   "outputs": [],
   "source": [
    "## ONLY NEED TO MODIFY VARIABLES IN THIS CELL ##\n",
    "\n",
    "#yaml file used when running the pipeline\n",
    "yaml_file = '../needlet_ILC_pipeline/example_yaml_files/laptop.yaml' \n",
    "\n",
    "#pipeline that was run (either 'multifrequency', 'HILC', or 'NILC')\n",
    "pipeline = 'NILC'"
   ]
  },
  {
   "cell_type": "code",
   "execution_count": null,
   "id": "d7bbd8e3",
   "metadata": {},
   "outputs": [],
   "source": [
    "import numpy as np\n",
    "import pickle\n",
    "import matplotlib.pyplot as plt\n",
    "from scipy import stats\n",
    "import sys\n",
    "from matplotlib.ticker import FormatStrFormatter\n",
    "from getdist import plots, MCSamples\n",
    "import getdist\n",
    "sys.path.append('../shared')\n",
    "from utils import GaussianNeedlets, get_naming_str"
   ]
  },
  {
   "cell_type": "code",
   "execution_count": null,
   "id": "65c3ad3c",
   "metadata": {},
   "outputs": [],
   "source": [
    "if pipeline == 'multifrequency':\n",
    "    sys.path.append('../multifrequency_pipeline')\n",
    "elif pipeline == 'NILC':\n",
    "    sys.path.append('../needlet_ILC_pipeline')\n",
    "elif pipeline == 'HILC':\n",
    "    sys.path.append('../harmonic_ILC_pipeline')\n",
    "from input import Info"
   ]
  },
  {
   "cell_type": "code",
   "execution_count": null,
   "id": "34813c79",
   "metadata": {},
   "outputs": [],
   "source": [
    "font = {'size'   : 20, 'family':'STIXGeneral'}\n",
    "plt.rcParams.update({\n",
    "     'text.usetex': True,\n",
    "     'font.family': 'serif',\n",
    "     'font.sans-serif': ['Computer Modern'],\n",
    "     'font.size':20})\n",
    "plt.rc_context({'axes.autolimit_mode': 'round_numbers'})\n",
    "\n",
    "getdist.plots.GetDistPlotSettings.legend_fontsize = 14"
   ]
  },
  {
   "cell_type": "code",
   "execution_count": null,
   "id": "637022ae",
   "metadata": {},
   "outputs": [],
   "source": [
    "# read in the input file and set up relevant info object\n",
    "inp = Info(yaml_file)\n",
    "inp.ell_sum_max = inp.ellmax\n",
    "\n",
    "ells = np.arange(inp.ellmax+1)\n",
    "res = stats.binned_statistic(ells[2:], ells[2:], statistic='mean', bins=inp.Nbins)\n",
    "mean_ells = np.round((res[1][:-1]+res[1][1:])/2)\n",
    "\n",
    "naming_str = get_naming_str(inp, pipeline)"
   ]
  },
  {
   "cell_type": "markdown",
   "id": "c11bf28b",
   "metadata": {},
   "source": [
    "# Plot posteriors"
   ]
  },
  {
   "cell_type": "code",
   "execution_count": null,
   "id": "ef29a980",
   "metadata": {},
   "outputs": [],
   "source": [
    "acmb_arr = pickle.load(open(f'{inp.output_dir}/posteriors/acmb_array_{naming_str}.p', 'rb'))\n",
    "atsz_arr = pickle.load(open(f'{inp.output_dir}/posteriors/atsz_array_{naming_str}.p', 'rb'))"
   ]
  },
  {
   "cell_type": "code",
   "execution_count": null,
   "id": "bae4605d",
   "metadata": {},
   "outputs": [],
   "source": [
    "names = [r'$A_{\\mathrm{CMB}}$', r'$A_{\\mathrm{ftSZ}}$']\n",
    "labels =  names\n",
    "samples = MCSamples(samples=[acmb_arr,atsz_arr], names = names, labels = labels)\n",
    "\n",
    "g = plots.get_subplot_plotter()\n",
    "g.triangle_plot([samples], filled=True)"
   ]
  },
  {
   "cell_type": "code",
   "execution_count": null,
   "id": "7ce8453e",
   "metadata": {},
   "outputs": [],
   "source": [
    "for par in [r\"$A_{\\mathrm{CMB}}$\", r'$A_{\\mathrm{ftSZ}}$']:\n",
    "    print(samples.getInlineLatex(par,limit=1))"
   ]
  },
  {
   "cell_type": "markdown",
   "id": "c1d2a278",
   "metadata": {},
   "source": [
    "# Plot Power Spectra and Covariance and Correlation Matrices"
   ]
  },
  {
   "cell_type": "markdown",
   "id": "80ed705f",
   "metadata": {},
   "source": [
    "### (If using LFI, plot these matrices using the simulations generated at the fiducial parameter values)."
   ]
  },
  {
   "cell_type": "code",
   "execution_count": null,
   "id": "dff2d1c4",
   "metadata": {},
   "outputs": [],
   "source": [
    "from matplotlib.colors import SymLogNorm, LogNorm"
   ]
  },
  {
   "cell_type": "markdown",
   "id": "2b6a63eb",
   "metadata": {},
   "source": [
    "## Compute PS and Cov"
   ]
  },
  {
   "cell_type": "code",
   "execution_count": null,
   "id": "0337fc76",
   "metadata": {},
   "outputs": [],
   "source": [
    "def get_PS_array(inp, Clpq, pipeline):\n",
    "    '''\n",
    "    ARGUMENTS\n",
    "    ---------\n",
    "    inp: Info object containing input paramter specifications\n",
    "    Clpq: arrays of varying dimensions based on pipeline (Clij for multifrequency)\n",
    "    pipeline: str, 'NILC', 'HILC', or 'multifrequency'\n",
    "    \n",
    "    RETURNS\n",
    "    -------\n",
    "    PS: power spectrum array of shape (Nsims, 2, 2, Nbins), \n",
    "        where 2 is for N_preserved_comps in HILC or NILC and for Nfreqs in multifrequency\n",
    "    '''\n",
    "    if inp.use_lfi:\n",
    "        PS = Clpq\n",
    "    elif (pipeline == 'NILC') or (pipeline == 'HILC' and inp.use_symbolic_regression):\n",
    "        PS = Clpq[:,0,0,0]\n",
    "    elif (pipeline == 'HILC' and not inp.use_symbolic_regression) or (pipeline == 'multifrequency'):\n",
    "        PS = Clpq[:,:,:,0]\n",
    "    return PS\n",
    "    "
   ]
  },
  {
   "cell_type": "code",
   "execution_count": null,
   "id": "1d555244",
   "metadata": {},
   "outputs": [],
   "source": [
    "def get_PScov_sim(inp, PS):\n",
    "    '''\n",
    "    ARGUMENTS\n",
    "    ---------\n",
    "    inp: Info object containing input paramter specifications\n",
    "    PS: For NILC or HILC, PS is Clpq of shape (Nsims, N_preserved_comps=2, N_preserved_comps=2, Nbins) ndarray \n",
    "        containing propagation of each pair of component maps to HILC or NILC map auto- and cross-spectra.\n",
    "        For multifrequency, PS is Clij of shape (Nsims, Nfreqs=2, Nfreqs=2, Nbins).\n",
    "    \n",
    "    RETURNS\n",
    "    -------\n",
    "    cov: (3*Nbins, 3*Nbins) ndarray containing covariance matrix Cov_{pq,rs} (Cov_{ij,kl} for multifrequency)\n",
    "        index as cov[(0-2 for ClTT ClTy Clyy)*Nbins + bin1, (0-2 for ClTT ClTy Clyy)*Nbins + bin2] if HILC or NILC\n",
    "        index as cov[(0-2 for Cl00 Cl01 Cl11)*Nbins + bin1, (0-2 for Cl00 Cl01 Cl11)*Nbins + bin2] if multifrequency\n",
    "    '''\n",
    "    Clpq_tmp = PS\n",
    "    Clpq_tmp = np.array([Clpq_tmp[:,0,0], Clpq_tmp[:,0,1], Clpq_tmp[:,1,1]])\n",
    "    Clpq_tmp = np.transpose(Clpq_tmp, axes=(0,2,1)) #shape (3, Nbins, Nsims)\n",
    "    Clpq_tmp = np.reshape(Clpq_tmp, (inp.Nbins*3, -1))\n",
    "    cov = np.cov(Clpq_tmp)\n",
    "    return cov"
   ]
  },
  {
   "cell_type": "code",
   "execution_count": null,
   "id": "389bb084",
   "metadata": {},
   "outputs": [],
   "source": [
    "def plot_cov_matrix(inp, pipeline, PS, title=None, corr=False, colorbar=False):\n",
    "    '''\n",
    "    ARGUMENTS\n",
    "    ---------\n",
    "    inp: Info object containing input paramter specifications\n",
    "    pipeline: str, 'NILC', 'HILC', or 'multifrequency'\n",
    "    PS: For NILC or HILC, PS is Clpq of shape (Nsims, N_preserved_comps=2, N_preserved_comps=2, Nbins) ndarray \n",
    "        containing propagation of each pair of component maps to HILC or NILC map auto- and cross-spectra.\n",
    "        For multifrequency, PS is Clij of shape (Nsims, Nfreqs=2, Nfreqs=2, Nbins).\n",
    "    title: str, title of plot\n",
    "    corr: Bool, if True plots correlation matrix, if False plots absolute covariance matrix\n",
    "    colorbar: Bool, whether to include colorbar in the plot\n",
    "    \n",
    "    RETURNS\n",
    "    -------\n",
    "    None\n",
    "    '''\n",
    "    PScov = get_PScov_sim(inp, PS)   \n",
    "    if not corr:\n",
    "        plt.imshow(np.abs(PScov), norm=LogNorm())\n",
    "    else:\n",
    "        diag = np.diag(PScov)\n",
    "        PScorr = np.einsum('ab,a,b->ab', PScov, 1/np.sqrt(diag), 1/np.sqrt(diag))\n",
    "        plt.imshow(PScorr, vmin=-1., vmax=1.)\n",
    "    ax = plt.gca()\n",
    "    ax.set_xticks([5,15,25])\n",
    "    ax.set_yticks([5,15,25])\n",
    "    if pipeline == 'multifrequency':\n",
    "        labels = [r'$C_\\ell^{00}$', r'$C_\\ell^{01}$', r'$C_\\ell^{11}$']\n",
    "    else:\n",
    "        labels = [r'$C_\\ell^{\\hat{T}\\hat{T}}$', r'$C_\\ell^{\\hat{T}\\hat{y}}$', r'$C_\\ell^{\\hat{y}\\hat{y}}$']\n",
    "    ax.set_xticklabels(labels)\n",
    "    ax.set_yticklabels(labels)\n",
    "    if colorbar:\n",
    "        plt.colorbar()\n",
    "    if title:\n",
    "        plt.title(title, fontsize=15)"
   ]
  },
  {
   "cell_type": "code",
   "execution_count": null,
   "id": "bc213b45",
   "metadata": {},
   "outputs": [],
   "source": [
    "if pipeline == 'multifrequency':\n",
    "    Clij = pickle.load(open(f'{inp.output_dir}/data_vecs/Clij_{naming_str}.p', 'rb'))\n",
    "    PS = get_PS_array(inp, Clij, pipeline)\n",
    "else:\n",
    "    Clpq = pickle.load(open(f'{inp.output_dir}/data_vecs/Clpq_{naming_str}.p', 'rb'))\n",
    "    PS = get_PS_array(inp, Clpq, pipeline)\n",
    "PScov = get_PScov_sim(inp, PS)\n"
   ]
  },
  {
   "cell_type": "markdown",
   "id": "08d57021",
   "metadata": {},
   "source": [
    "## Plots for Power Spectra"
   ]
  },
  {
   "cell_type": "markdown",
   "id": "201513b3",
   "metadata": {},
   "source": [
    "### (colored lines show individual simulations, solid black line is mean over simulations, used as our \"observation\" in LFI or smooth theory curve in the Gaussian likelihood)"
   ]
  },
  {
   "cell_type": "code",
   "execution_count": null,
   "id": "4733bee8",
   "metadata": {},
   "outputs": [],
   "source": [
    "start = 0\n",
    "if pipeline == 'multifrequency':\n",
    "    labels = [r'$C_\\ell^{00}$', r'$C_\\ell^{01}$', r'$C_\\ell^{11}$']\n",
    "else:\n",
    "    labels = [r'$C_\\ell^{\\hat{T}\\hat{T}}$', r'$C_\\ell^{\\hat{T}\\hat{y}}$', r'$C_\\ell^{\\hat{y}\\hat{y}}$']\n",
    "fig, axs = plt.subplots(1,3, figsize=(9,5))\n",
    "ax = 0\n",
    "for p,q in [(0,0), (0,1), (1,1)]:\n",
    "    plt.axes(axs[ax])\n",
    "    for sim in range(len(PS)):\n",
    "        plt.plot(mean_ells, PS[sim,p,q][start:], alpha=0.2)\n",
    "    plt.plot(mean_ells, np.mean(PS[:,p,q],axis=0)[start:], color='k', linewidth=1.)\n",
    "    plt.grid()\n",
    "    plt.xlabel(r'$\\ell$')\n",
    "    plt.ylabel(labels[ax])\n",
    "    if p==q:\n",
    "        plt.yscale('log')\n",
    "    ax += 1\n",
    "plt.tight_layout()"
   ]
  },
  {
   "cell_type": "markdown",
   "id": "a16249da",
   "metadata": {},
   "source": [
    "## Plot Correlation Matrix and Absolute Value of Covariance Matrix"
   ]
  },
  {
   "cell_type": "code",
   "execution_count": null,
   "id": "a870fe07",
   "metadata": {},
   "outputs": [],
   "source": [
    "fig, axs = plt.subplots(1,2, figsize = (8,4), layout='constrained')\n",
    "for i in range(2):\n",
    "    plt.axes(axs[i])\n",
    "    if i == 0:\n",
    "        plot_cov_matrix(inp, pipeline, PS, corr=True, colorbar=True, title='Correlation Matrix')\n",
    "    else:\n",
    "        plot_cov_matrix(inp, pipeline, PS, corr=False, colorbar=True, title=r'$|$Covariance Matrix$|$')"
   ]
  },
  {
   "cell_type": "markdown",
   "id": "cd4cb976",
   "metadata": {},
   "source": [
    "# Examine Parameter Dependence from Symbolic Regression"
   ]
  },
  {
   "cell_type": "markdown",
   "id": "62a993a1",
   "metadata": {},
   "source": [
    "### This section won't output anything unless using results from the NILC pipeline or from HILC pipeline with use_symbolic_regression set to True"
   ]
  },
  {
   "cell_type": "code",
   "execution_count": null,
   "id": "196f6da2",
   "metadata": {},
   "outputs": [],
   "source": [
    "b = 5 #bin number (can change this to see parameter dependence in different bins from 0 through Nbins-1)\n",
    "\n",
    "if (pipeline == 'NILC') or (pipeline == 'HILC' and inp.use_symbolic_regression):\n",
    "    \n",
    "    #load file\n",
    "    fname = f'{inp.output_dir}/data_vecs/best_fits_{naming_str}.p'\n",
    "    best_fits = pickle.load(open(fname, 'rb'))  \n",
    "    \n",
    "    fig, axs = plt.subplots(1,3, figsize=(7,7), sharey=True, sharex=True, layout='constrained')\n",
    "    axs = axs.flatten()\n",
    "    npoints = 20\n",
    "    start_val, end_val = [0.9**2, 1.1**2]\n",
    "    acmb_test_vals = np.linspace(start_val, end_val, npoints)\n",
    "    atsz_test_vals = np.linspace(start_val, end_val, npoints)\n",
    "    comps = ['CMB', 'ftSZ']\n",
    "    call_fit = lambda A_vec, expr: expr.subs('x0', A_vec[0]).subs('x1', A_vec[1])\n",
    "\n",
    "    ax = 0\n",
    "    for p,q in [(0,0), (0,1), (1,1)]:\n",
    "        plt.axes(axs[ax])\n",
    "        arr = np.zeros((npoints, npoints))\n",
    "        for i,acmb in enumerate(acmb_test_vals):\n",
    "            for j,atsz in enumerate(atsz_test_vals):\n",
    "                arr[j,i] = call_fit([acmb, atsz], best_fits[p][q][b])\n",
    "\n",
    "        plt.imshow(arr, extent=[start_val, end_val, start_val, end_val,], vmin=0.85, vmax=1.15, origin='lower')\n",
    "        plt.xticks(fontsize=12)\n",
    "        plt.yticks(fontsize=12)\n",
    "        plt.xlabel(r'$A_{\\mathrm{CMB}}$', fontsize=16)\n",
    "        if ax == 0:\n",
    "            plt.ylabel(r'$A_{\\mathrm{ftSZ}}$', fontsize=16)\n",
    "        ax += 1\n",
    "        if (p,q) == (0,0):\n",
    "            title = r' $C_\\ell^{\\hat{T}\\hat{T}}$'\n",
    "        elif (p,q) == (0,1):\n",
    "            title = r' $C_\\ell^{\\hat{T}\\hat{y}}$'\n",
    "        else:\n",
    "            title = r' $C_\\ell^{\\hat{y}\\hat{y}}$'\n",
    "        plt.title(title, fontsize=16)\n",
    "\n",
    "    handles, labels = axs[-1].get_legend_handles_labels() \n",
    "    fig.legend(handles, labels, fontsize=10, bbox_to_anchor=(1.0, 0.05), ncol=2)\n",
    "    cbar = plt.colorbar()\n",
    "    cbar.ax.tick_params(labelsize=12)\n",
    "    plt.suptitle(f'Parameter Dependence in Bin {b} (Mean ' + r'$\\ell=$' + f'{int(mean_ells[b])})')\n",
    "    \n",
    "    print(f'expression for ClTT parameter dependence in bin {b}: ', best_fits[0][0][b])\n",
    "    print(f'expression for ClTy parameter dependence in bin {b}: ', best_fits[0][1][b])\n",
    "    print(f'expression for Clyy parameter dependence in bin {b}: ', best_fits[1][1][b])\n",
    "    \n",
    "    \n",
    "    "
   ]
  },
  {
   "cell_type": "markdown",
   "id": "a77daf05",
   "metadata": {},
   "source": [
    "# Needlet Filters"
   ]
  },
  {
   "cell_type": "markdown",
   "id": "00f7e611",
   "metadata": {},
   "source": [
    "### This section won't output anything unless pipeline == 'NILC'"
   ]
  },
  {
   "cell_type": "code",
   "execution_count": null,
   "id": "36c5443e",
   "metadata": {},
   "outputs": [],
   "source": [
    "if pipeline == 'NILC':\n",
    "    ells, h = GaussianNeedlets(inp)\n",
    "    for n in range(inp.Nscales):\n",
    "        plt.plot(ells, h[n], color='k')\n",
    "    plt.grid()\n",
    "    plt.xlim(0,inp.ellmax)\n",
    "    plt.xlabel(r'$\\ell$')\n",
    "    plt.ylabel(r'$h_\\ell^{(n)}$')"
   ]
  },
  {
   "cell_type": "code",
   "execution_count": null,
   "id": "bfc75f0e",
   "metadata": {},
   "outputs": [],
   "source": []
  }
 ],
 "metadata": {
  "kernelspec": {
   "display_name": "Python 3 (ipykernel)",
   "language": "python",
   "name": "python3"
  },
  "language_info": {
   "codemirror_mode": {
    "name": "ipython",
    "version": 3
   },
   "file_extension": ".py",
   "mimetype": "text/x-python",
   "name": "python",
   "nbconvert_exporter": "python",
   "pygments_lexer": "ipython3",
   "version": "3.9.12"
  }
 },
 "nbformat": 4,
 "nbformat_minor": 5
}
